{
 "cells": [
  {
   "cell_type": "markdown",
   "id": "3822498a-b43f-46dc-921b-3b7290efabe9",
   "metadata": {},
   "source": [
    "# <font color='red'>*Basic Problems*</font>"
   ]
  },
  {
   "cell_type": "markdown",
   "id": "f3e1a5cd-1dac-4418-9df8-1c01de0831a5",
   "metadata": {},
   "source": [
    "# 1. Variable Swap: Write a Python program to swap the values of two variables without using a temporary variable."
   ]
  },
  {
   "cell_type": "code",
   "execution_count": 119,
   "id": "2dcb2745-2af8-451b-9e62-9e88dee5e29b",
   "metadata": {},
   "outputs": [
    {
     "name": "stdout",
     "output_type": "stream",
     "text": [
      "20\n",
      "10\n"
     ]
    }
   ],
   "source": [
    "a=10\n",
    "b=20\n",
    "\n",
    "b,a=10,20\n",
    "print(a)\n",
    "print(b)"
   ]
  },
  {
   "cell_type": "markdown",
   "id": "d33c3d94-6d3e-48b8-b2b0-dab36b2a1d9e",
   "metadata": {},
   "source": [
    "# 2. Even or Odd: Write a Python program that takes an integer as input and prints whether it is even or odd."
   ]
  },
  {
   "cell_type": "code",
   "execution_count": 9,
   "id": "abda10e1-7e3e-47a9-85aa-874772ad7b46",
   "metadata": {},
   "outputs": [
    {
     "name": "stdin",
     "output_type": "stream",
     "text": [
      "Please take an input:  9\n"
     ]
    },
    {
     "name": "stdout",
     "output_type": "stream",
     "text": [
      "Number is odd\n"
     ]
    }
   ],
   "source": [
    "input_number=int(input(\"Please take an input: \"))\n",
    "\n",
    "if input_number % 2 == 0:\n",
    "    print(\"Number is even\")\n",
    "else:\n",
    "    print(\"Number is odd\")"
   ]
  },
  {
   "cell_type": "markdown",
   "id": "8568ac8a-8f34-4c3f-984e-b9a7d5fd69e2",
   "metadata": {},
   "source": [
    "# 3. String Reverse: Write a Python function to reverse a given string and return the reversed string."
   ]
  },
  {
   "cell_type": "code",
   "execution_count": 29,
   "id": "cc607101-c5da-43c3-b3df-e9ce405ad347",
   "metadata": {},
   "outputs": [
    {
     "name": "stdin",
     "output_type": "stream",
     "text": [
      "Please take an input:  abc\n"
     ]
    },
    {
     "name": "stdout",
     "output_type": "stream",
     "text": [
      "cba\n"
     ]
    }
   ],
   "source": [
    "input_string=input(\"Please take an input: \")\n",
    "\n",
    "print(input_string[::-1])"
   ]
  },
  {
   "cell_type": "markdown",
   "id": "69abe1c3-a606-4bef-8b27-14ee40c84f25",
   "metadata": {},
   "source": [
    "# 4. Type Conversion: Given a list of integers, write a Python program to convert each element of the list to a string."
   ]
  },
  {
   "cell_type": "code",
   "execution_count": 15,
   "id": "d5a80668-8322-41f7-b370-cec304a9b923",
   "metadata": {},
   "outputs": [
    {
     "name": "stdout",
     "output_type": "stream",
     "text": [
      "['10', '20', '30']\n"
     ]
    }
   ],
   "source": [
    "input_list= [10,20,30]\n",
    "lst1=[]\n",
    "for i in input_list:\n",
    "    lst1.append(str(i))\n",
    "print(lst1)"
   ]
  },
  {
   "cell_type": "markdown",
   "id": "3cdf5501-1db1-4826-bd21-286e1097227e",
   "metadata": {},
   "source": [
    "# 5. Temperature Converter: Write a Python program that converts a temperature in Celsius to Fahrenheit. Take the Celsius temperature as input from the user."
   ]
  },
  {
   "cell_type": "code",
   "execution_count": 141,
   "id": "cf18098a-86bc-43f9-a890-390551c18c3f",
   "metadata": {},
   "outputs": [
    {
     "name": "stdin",
     "output_type": "stream",
     "text": [
      "Please give temp in celcius:  40\n"
     ]
    },
    {
     "name": "stdout",
     "output_type": "stream",
     "text": [
      "104.0\n"
     ]
    }
   ],
   "source": [
    "temp=int(input(\"Please give temp in celcius: \"))\n",
    "\n",
    "farh=temp*(9/5)+32\n",
    "print(farh)"
   ]
  },
  {
   "cell_type": "markdown",
   "id": "4c4bb29a-02de-4fee-bbf4-c038aceb5814",
   "metadata": {},
   "source": [
    "# 6. Data Type Checker: Write a Python function that takes a variable as input and returns the data type of the variable as a string (e.g., “int”, “float”, “str”, “list”, etc.)."
   ]
  },
  {
   "cell_type": "code",
   "execution_count": 143,
   "id": "0615c762-f045-43d1-8866-0aa5471ab8b4",
   "metadata": {},
   "outputs": [
    {
     "name": "stdout",
     "output_type": "stream",
     "text": [
      "<class 'int'>\n",
      "<class 'str'>\n",
      "<class 'float'>\n",
      "<class 'list'>\n"
     ]
    }
   ],
   "source": [
    "a=10\n",
    "b=\"BD\"\n",
    "c=10.05\n",
    "d=[1,2,3]\n",
    "\n",
    "print(type(a))\n",
    "print(type(b))\n",
    "print(type(c))\n",
    "print(type(d))\n"
   ]
  },
  {
   "cell_type": "markdown",
   "id": "d28c17da-f160-47a9-948f-8fcbb850e45e",
   "metadata": {},
   "source": [
    "# 7. String Palindrome: Write a Python function to check if a given string is a palindrome or not."
   ]
  },
  {
   "cell_type": "code",
   "execution_count": 26,
   "id": "c9449f57-04c9-42ab-80c2-5fe3ef12d579",
   "metadata": {},
   "outputs": [
    {
     "name": "stdin",
     "output_type": "stream",
     "text": [
      "Please take an input:  12321\n"
     ]
    },
    {
     "name": "stdout",
     "output_type": "stream",
     "text": [
      "Ït's palindrome\n"
     ]
    }
   ],
   "source": [
    "input_number=input(\"Please take an input: \")\n",
    "length=len(input_number)\n",
    "if int(input_number[0:length]) == int(input_number[::-1]):\n",
    "    print(\"Ït's palindrome\")\n",
    "else:\n",
    "    print(\"Not Palindrome\")"
   ]
  },
  {
   "cell_type": "markdown",
   "id": "41c3f781-eadd-4fd2-8860-86b06fed1796",
   "metadata": {},
   "source": [
    "# 8. String Reversal with Slicing: Write a Python function to reverse a given string using slicing."
   ]
  },
  {
   "cell_type": "code",
   "execution_count": 31,
   "id": "b68e07be-fb78-4b6a-bde6-481b53fbe4a3",
   "metadata": {},
   "outputs": [
    {
     "name": "stdin",
     "output_type": "stream",
     "text": [
      "Please take an input:  Bangladesh\n"
     ]
    },
    {
     "name": "stdout",
     "output_type": "stream",
     "text": [
      "hsedalgnaB\n"
     ]
    }
   ],
   "source": [
    "input_string=input(\"Please take an input: \")\n",
    "\n",
    "print(input_string[::-1])"
   ]
  },
  {
   "cell_type": "markdown",
   "id": "d0368e80-04c5-4ceb-a938-288215386ddf",
   "metadata": {},
   "source": [
    "# 9. String Concatenation: Write a Python program that takes two strings as input and concatenates them into a single string without using the `+` operator."
   ]
  },
  {
   "cell_type": "code",
   "execution_count": 57,
   "id": "f2b6cf07-060a-413e-a479-fc4843e13c70",
   "metadata": {},
   "outputs": [
    {
     "name": "stdin",
     "output_type": "stream",
     "text": [
      "Please take an input:  bangladesh\n",
      "Please take an input:  india\n"
     ]
    },
    {
     "name": "stdout",
     "output_type": "stream",
     "text": [
      "bangladeshindia\n"
     ]
    }
   ],
   "source": [
    "input_string1=input(\"Please take an input: \")\n",
    "input_string2=input(\"Please take an input: \")\n",
    "\n",
    "print(f'{input_string1}{input_string2}')\n"
   ]
  },
  {
   "cell_type": "markdown",
   "id": "cc78b3d8-303b-44c2-a03a-0e7ef6ea13be",
   "metadata": {},
   "source": [
    "# 10. Typecasting Challenge: Given three variables: `a = ‘100’`, `b = 25`, and `c = ‘10.5’`, write a Python program to perform the following operations and print the results: – Convert `a` to an integer and add it to `b`. – Convert `c` to a float and subtract it from the result of the first operation. – Convert the final result to a string and concatenate it with the string ” is the answer.”"
   ]
  },
  {
   "cell_type": "code",
   "execution_count": 68,
   "id": "4322d2f5-0c51-4535-b5f0-e27fdd65dc16",
   "metadata": {},
   "outputs": [
    {
     "name": "stdout",
     "output_type": "stream",
     "text": [
      "114.5 is the answer\n"
     ]
    }
   ],
   "source": [
    "a = \"100\"\n",
    "b = 25\n",
    "c = \"10.5\"\n",
    "sumaPlusb=int(a)+b\n",
    "minusSUMc=str(sumaPlusb-float(c))\n",
    "print(f'{minusSUMc} is the answer')"
   ]
  },
  {
   "cell_type": "markdown",
   "id": "39a8ab18-0dc1-4baa-bcec-d22daf984e74",
   "metadata": {},
   "source": [
    "# <font color='red'>*Python Conditional Statements:*</font>"
   ]
  },
  {
   "cell_type": "markdown",
   "id": "1103d2ae-fb56-4325-b936-a6703858ddaa",
   "metadata": {},
   "source": [
    "# 11. Positive, Negative, or Zero: Write a Python program that takes a number as input and prints whether it is positive, negative, or zero."
   ]
  },
  {
   "cell_type": "code",
   "execution_count": 77,
   "id": "468f9033-0a75-4967-a7b2-514b0fd97a12",
   "metadata": {},
   "outputs": [
    {
     "name": "stdin",
     "output_type": "stream",
     "text": [
      "Please Type a Number:  -12\n"
     ]
    },
    {
     "name": "stdout",
     "output_type": "stream",
     "text": [
      "The Number is negative\n"
     ]
    }
   ],
   "source": [
    "input_number= int(input(\"Please Type a Number: \"))\n",
    "\n",
    "if input_number < 0:\n",
    "    print(\"The Number is negative\")\n",
    "elif input_number == 0:\n",
    "    print(\"The Number is zero\")\n",
    "else:\n",
    "    print(\"ït's positive\")"
   ]
  },
  {
   "cell_type": "markdown",
   "id": "09461e52-7112-4144-9127-bd5f990ca80f",
   "metadata": {},
   "source": [
    "# 12. Largest of Three Numbers: Write a Python program that takes three numbers as input and prints the largest among them."
   ]
  },
  {
   "cell_type": "code",
   "execution_count": 54,
   "id": "1bd1b44d-f876-42a6-a200-34b76c471e36",
   "metadata": {},
   "outputs": [
    {
     "name": "stdin",
     "output_type": "stream",
     "text": [
      "How many numbers do you want to compare:  5\n",
      " \n",
      "Do You Want Largest or Smalltest, If Largest Type L, If Smallest Type S:  S\n",
      "type 1th number:  100\n",
      "type 2th number:  12\n",
      "type 3th number:  101\n",
      "type 4th number:  12\n",
      "type 5th number:  2\n"
     ]
    },
    {
     "name": "stdout",
     "output_type": "stream",
     "text": [
      "Smallest among the numbers is 2\n"
     ]
    }
   ],
   "source": [
    "numbers=int(input(\"How many numbers do you want to compare: \"))\n",
    "will= input(''' \n",
    "Do You Want Largest or Smalltest, If Largest Type L, If Smallest Type S: ''')\n",
    "lst=[]\n",
    "for i in range(0,numbers):\n",
    "    lst.append(int(input(f'type {i+1}th number: ')))\n",
    "if will.capitalize == 'L':\n",
    "    lst.sort(reverse=True)\n",
    "    print(f'Largest among the numbers is {lst[0]}')\n",
    "else:\n",
    "    lst.sort()\n",
    "    print(f'Smallest among the numbers is {lst[0]}')"
   ]
  },
  {
   "cell_type": "markdown",
   "id": "eb7862fa-4646-4793-a825-f4d9a0091255",
   "metadata": {},
   "source": [
    "# 13. Leap Year Checker: Write a Python program that takes a year as input and determines if it is a leap year or not."
   ]
  },
  {
   "cell_type": "code",
   "execution_count": 4,
   "id": "bbd6e57b-5101-45d6-bf4c-d4432488f7f0",
   "metadata": {},
   "outputs": [
    {
     "name": "stdin",
     "output_type": "stream",
     "text": [
      "Please take an year:  2025\n"
     ]
    },
    {
     "name": "stdout",
     "output_type": "stream",
     "text": [
      "Not a leap year\n"
     ]
    }
   ],
   "source": [
    "input_year=int(input(\"Please take an year: \"))\n",
    "\n",
    "if input_year % 4 == 0:\n",
    "    print(\"It's a leap year\")\n",
    "else:\n",
    "    print(\"Not a leap year\")"
   ]
  },
  {
   "cell_type": "markdown",
   "id": "607f4910-1870-404a-81a1-641d0c36f29b",
   "metadata": {},
   "source": [
    "# 14. Grades Classification: Write a Python program that takes a student’s percentage as input and prints their corresponding grade according to the following criteria: – 90% or above: A+ – 80-89%: A – 70-79%: B – 60-69%: C – Below 60%: Fail"
   ]
  },
  {
   "cell_type": "code",
   "execution_count": 81,
   "id": "b933a284-fa6d-493d-b5f0-3cb5e01e3d78",
   "metadata": {},
   "outputs": [
    {
     "name": "stdin",
     "output_type": "stream",
     "text": [
      "Please take an input:  85\n"
     ]
    },
    {
     "name": "stdout",
     "output_type": "stream",
     "text": [
      "A\n"
     ]
    }
   ],
   "source": [
    "input_number=int(input(\"Please take an input: \"))\n",
    "\n",
    "if input_number >= 90:\n",
    "    print(\"A+\")\n",
    "elif input_number in range(80,90):\n",
    "    print(\"A\")\n",
    "elif input_number in range(60,70):\n",
    "    print(\"B\")\n",
    "elif input_number < 60:\n",
    "    print(\"Fail\")"
   ]
  },
  {
   "cell_type": "markdown",
   "id": "d3c4bdbf-a557-4568-8284-ea12543172ec",
   "metadata": {},
   "source": [
    "# 15. Vowel or Consonant: Write a Python program that takes a single character as input and determines whether it is a vowel or a consonant."
   ]
  },
  {
   "cell_type": "code",
   "execution_count": null,
   "id": "00face35-20fd-40d5-9b3e-472614a16555",
   "metadata": {},
   "outputs": [],
   "source": [
    "alphabet= input('Tyepe your alphabet: ')\n",
    "\n",
    "if alphabet.capitalize == 'A' or alphabet.capitalize == 'E' or alphabet.capitalize == 'I' or alphabet.capitalize == 'O' or alphabet.capitalize == 'A' or"
   ]
  },
  {
   "cell_type": "markdown",
   "id": "a8b2fdb9-258a-49ac-a3e3-3fae3fd23701",
   "metadata": {},
   "source": [
    "# 16. Time Classification: Write a Python program that takes the time in hours (24-hour format) as input and prints “Good Morning”, “Good Afternoon”, “Good Evening”, or “Good Night” based on the time."
   ]
  },
  {
   "cell_type": "code",
   "execution_count": 157,
   "id": "9d146ad1-702a-45c0-8d95-b8b23062bb77",
   "metadata": {},
   "outputs": [
    {
     "name": "stdin",
     "output_type": "stream",
     "text": [
      "Please enter the time (0-23):  25\n"
     ]
    },
    {
     "name": "stdout",
     "output_type": "stream",
     "text": [
      "Good Night\n"
     ]
    }
   ],
   "source": [
    "input_time = int(input(\"Please enter the time (0-23): \"))\n",
    "\n",
    "if 5 <= input_time < 12:\n",
    "    print(\"Good Morning\")\n",
    "elif 12 <= input_time < 17:\n",
    "    print(\"Good Afternoon\")\n",
    "elif 17 <= input_time <= 23:\n",
    "    print(\"Good Evening\")\n",
    "else:\n",
    "    print(\"Good Night\")\n"
   ]
  },
  {
   "cell_type": "markdown",
   "id": "1ac643c7-ef8d-472e-93ca-5817cf69a85e",
   "metadata": {},
   "source": [
    "# 17. Triangle Type Checker: Write a Python program that takes three sides of a triangle as input and determines whether it forms an equilateral, isosceles, or scalene triangle."
   ]
  },
  {
   "cell_type": "code",
   "execution_count": 16,
   "id": "dc88a9e2-02e0-4e06-a49b-33420d28686b",
   "metadata": {},
   "outputs": [
    {
     "name": "stdin",
     "output_type": "stream",
     "text": [
      "Please take an input:  11\n",
      "Please take an input:  12\n",
      "Please take an input:  13\n"
     ]
    },
    {
     "name": "stdout",
     "output_type": "stream",
     "text": [
      "It's scalene triangle\n"
     ]
    }
   ],
   "source": [
    "input_1st_leg=int(input(\"Please take an input: \"))\n",
    "input_2nd_leg=int(input(\"Please take an input: \"))\n",
    "input_3rd_leg=int(input(\"Please take an input: \"))\n",
    "\n",
    "if input_1st_leg == input_2nd_leg == input_3rd_leg:\n",
    "    print(\"It's equilateral triangle\")\n",
    "elif (input_1st_leg == input_2nd_leg) or (input_3rd_leg == input_2nd_leg) or (input_1st_leg == input_3rd_leg):\n",
    "    print(\"It's isosceles triangle\")\n",
    "else:\n",
    "    print(\"It's scalene triangle\")"
   ]
  },
  {
   "cell_type": "markdown",
   "id": "7ac7a449-b177-4c6b-9779-18a00a598562",
   "metadata": {},
   "source": [
    "# 18. Quadratic Equation Solver: Write a Python program that takes the coefficients (a, b, c) of a quadratic equation as input and calculates and prints the real roots (if they exist) or a message indicating the complex roots."
   ]
  },
  {
   "cell_type": "code",
   "execution_count": 11,
   "id": "4f5c858a-4464-49f8-9466-048ae8b2eca2",
   "metadata": {},
   "outputs": [
    {
     "name": "stdin",
     "output_type": "stream",
     "text": [
      "Enter coefficient a:  10\n",
      "Enter coefficient b:  20\n",
      "Enter coefficient c:  5\n"
     ]
    },
    {
     "name": "stdout",
     "output_type": "stream",
     "text": [
      "Two distinct real roots: -0.2928932188134524 and -1.7071067811865475\n"
     ]
    }
   ],
   "source": [
    "import math\n",
    "\n",
    "a = float(input(\"Enter coefficient a: \"))\n",
    "b = float(input(\"Enter coefficient b: \"))\n",
    "c = float(input(\"Enter coefficient c: \"))\n",
    "\n",
    "if a == 0:\n",
    "    print(\"This is not a quadratic equation (a cannot be 0).\")\n",
    "else:\n",
    "    det = b**2 - 4*a*c  \n",
    "    if det > 0:\n",
    "        root1 = (-b + math.sqrt(det)) / (2*a)\n",
    "        root2 = (-b - math.sqrt(det)) / (2*a)\n",
    "        print(f\"Two distinct real roots: {root1} and {root2}\")\n",
    "    elif det == 0:\n",
    "        root = -b / (2*a)\n",
    "        print(f\"One real root: {root}\")\n",
    "    else:\n",
    "        print(\"It has complex roots\")"
   ]
  },
  {
   "cell_type": "markdown",
   "id": "212d6465-a059-4a47-a636-fdefdccbd7a9",
   "metadata": {},
   "source": [
    "# 19. Number Ranges: Write a Python program that takes an integer as input and prints whether the number falls within the ranges: 0-50, 51-100, 101-150, or above 150."
   ]
  },
  {
   "cell_type": "code",
   "execution_count": 8,
   "id": "62ea24dd-4edc-443f-85fa-8be66a862606",
   "metadata": {},
   "outputs": [
    {
     "name": "stdin",
     "output_type": "stream",
     "text": [
      "Please take an input:  151\n"
     ]
    },
    {
     "name": "stdout",
     "output_type": "stream",
     "text": [
      "above 150\n"
     ]
    }
   ],
   "source": [
    "input_number=int(input(\"Please take an input: \"))\n",
    "\n",
    "if input_number in range(0,51):\n",
    "    print(\"Its in 0-50 range\")\n",
    "elif input_number in range(51,101):\n",
    "    print(\"Its in 51-100 range\")\n",
    "elif input_number in range(101,151):\n",
    "    print(\"Its in 101-150 range\")\n",
    "else:\n",
    "    print(\"above 150\")\n"
   ]
  },
  {
   "cell_type": "markdown",
   "id": "e772454e-a299-4d9b-90bc-05e173808e10",
   "metadata": {},
   "source": [
    "# <font color='red'>*For & While Loops*</font>"
   ]
  },
  {
   "cell_type": "markdown",
   "id": "9831dc7a-ee9f-42c6-b24f-0fd17769138c",
   "metadata": {},
   "source": [
    "# 20. Sum of N Numbers: Write a Python program using a for loop to calculate the sum of the first N natural numbers, where N is taken as input from the user."
   ]
  },
  {
   "cell_type": "code",
   "execution_count": 83,
   "id": "848a59a1-ca31-4c46-91c4-615c3f022149",
   "metadata": {},
   "outputs": [
    {
     "name": "stdin",
     "output_type": "stream",
     "text": [
      "Please Type a Number:  5\n"
     ]
    },
    {
     "name": "stdout",
     "output_type": "stream",
     "text": [
      "15\n"
     ]
    }
   ],
   "source": [
    "input_number= int(input(\"Please Type a Number: \"))\n",
    "sum=0\n",
    "for i in range(1,input_number+1):\n",
    "    sum=sum+i\n",
    "print(sum)"
   ]
  },
  {
   "cell_type": "markdown",
   "id": "2ce5e45b-f52f-4110-9148-8425399ded84",
   "metadata": {},
   "source": [
    "# 21. Factorial Calculator: Write a Python program using a while loop to calculate the factorial of a given number N."
   ]
  },
  {
   "cell_type": "code",
   "execution_count": 18,
   "id": "bace650e-fd3a-4f95-a766-fb20ef2af3e4",
   "metadata": {},
   "outputs": [
    {
     "name": "stdin",
     "output_type": "stream",
     "text": [
      "Please Type a Number for factorial:  5\n"
     ]
    },
    {
     "name": "stdout",
     "output_type": "stream",
     "text": [
      "5! = 120\n"
     ]
    }
   ],
   "source": [
    "input_number= int(input(\"Please Type a Number for factorial: \"))\n",
    "i=1\n",
    "mul=1\n",
    "\n",
    "while i <= input_number:\n",
    "    mul=mul*i\n",
    "    i=i+1\n",
    "\n",
    "print(f'{input_number}! = {mul}')\n"
   ]
  },
  {
   "cell_type": "markdown",
   "id": "4f0640d7-bfb2-4a1c-b6b1-cfc8d6375cbc",
   "metadata": {},
   "source": [
    "# 22. Table of a Number: Write a Python program using a for loop to print the multiplication table of a given number N."
   ]
  },
  {
   "cell_type": "code",
   "execution_count": 1,
   "id": "cf78c445-7cca-4139-a8d7-a569df0e3c26",
   "metadata": {},
   "outputs": [
    {
     "name": "stdin",
     "output_type": "stream",
     "text": [
      "Please Type a Number for multiplication table:  10\n"
     ]
    },
    {
     "name": "stdout",
     "output_type": "stream",
     "text": [
      "10x1 = 10\n",
      "10x2 = 20\n",
      "10x3 = 30\n",
      "10x4 = 40\n",
      "10x5 = 50\n",
      "10x6 = 60\n",
      "10x7 = 70\n",
      "10x8 = 80\n",
      "10x9 = 90\n",
      "10x10 = 100\n"
     ]
    }
   ],
   "source": [
    "input_number= int(input(\"Please Type a Number for multiplication table: \"))\n",
    "i=1\n",
    "mul=1\n",
    "for i in range(1,11):\n",
    "    mul=input_number*i\n",
    "    print(f'{input_number}x{i} = {mul}')\n"
   ]
  },
  {
   "cell_type": "markdown",
   "id": "9e345583-3809-45c6-8694-7b20612a892a",
   "metadata": {},
   "source": [
    "# 23. Count Digits in a Number: Write a Python program using a while loop to count the number of digits in a given integer N."
   ]
  },
  {
   "cell_type": "code",
   "execution_count": 24,
   "id": "716bbbcf-ed09-414a-8925-11c2b28ca845",
   "metadata": {},
   "outputs": [
    {
     "name": "stdin",
     "output_type": "stream",
     "text": [
      "Please take an input:  1234\n"
     ]
    },
    {
     "name": "stdout",
     "output_type": "stream",
     "text": [
      "4\n"
     ]
    }
   ],
   "source": [
    "a=int(input(\"Please take an input: \"))\n",
    "count=0\n",
    "while a >= 1:\n",
    "    a = a//10\n",
    "    count+=1\n",
    "print(count)"
   ]
  },
  {
   "cell_type": "markdown",
   "id": "ed05728a-9094-485f-bfa0-baa4ddb15b7c",
   "metadata": {},
   "source": [
    "# 24. Fibonacci Sequence: Write a Python program using a for loop to generate the Fibonacci sequence up to a given limit N."
   ]
  },
  {
   "cell_type": "code",
   "execution_count": 28,
   "id": "5304357d-cf56-4d63-9eae-a73000ee1e83",
   "metadata": {},
   "outputs": [
    {
     "name": "stdout",
     "output_type": "stream",
     "text": [
      "0\n",
      "2\n",
      "4\n",
      "6\n",
      "8\n",
      "10\n",
      "12\n",
      "14\n",
      "16\n",
      "18\n",
      "20\n",
      "22\n",
      "24\n",
      "26\n",
      "28\n"
     ]
    }
   ],
   "source": [
    "a=[0,1]\n",
    "for i in range(20):\n",
    "    i=i+i\n",
    "    print(i)"
   ]
  },
  {
   "cell_type": "markdown",
   "id": "619c3c7d-761e-4bee-960c-21ccb2d044e4",
   "metadata": {},
   "source": [
    "# 25. Sum of Even Numbers: Write a Python program using a while loop to calculate the sum of all even numbers between 1 and N, where N is taken as input from the user."
   ]
  },
  {
   "cell_type": "code",
   "execution_count": 5,
   "id": "2f273a9f-3a8c-4a06-b035-2abc1c3c3800",
   "metadata": {},
   "outputs": [
    {
     "name": "stdin",
     "output_type": "stream",
     "text": [
      "Please take an input:  20\n"
     ]
    },
    {
     "name": "stdout",
     "output_type": "stream",
     "text": [
      "110\n"
     ]
    }
   ],
   "source": [
    "a=int(input(\"Please take an input: \"))\n",
    "b=1\n",
    "sum=0\n",
    "while b <= a:\n",
    "    b=b+1\n",
    "    if b % 2 == 0:\n",
    "       sum=sum+b\n",
    "    \n",
    "\n",
    "print(sum)"
   ]
  },
  {
   "cell_type": "markdown",
   "id": "bd5fa793-debd-4c90-ab69-f9e7891cb68d",
   "metadata": {},
   "source": [
    "# 26. Print Patterns: Write a Python program using nested for loops to print various patterns, such as a right-angled triangle, an inverted right-angled triangle, and so on."
   ]
  },
  {
   "cell_type": "code",
   "execution_count": 43,
   "id": "f5545917-a822-44e4-a0d2-13e3124eda57",
   "metadata": {},
   "outputs": [
    {
     "name": "stdout",
     "output_type": "stream",
     "text": [
      "* \n",
      "\n",
      "* * \n",
      "\n",
      "* * * \n",
      "\n",
      "* * * * \n",
      "\n",
      "* * * * * \n",
      "\n",
      "--------------------------\n",
      "* * * * * \n",
      "\n",
      "* * * * \n",
      "\n",
      "* * * \n",
      "\n",
      "* * \n",
      "\n",
      "* \n",
      "\n"
     ]
    }
   ],
   "source": [
    "for i in range(1,6):\n",
    "    for j in range(0,i):\n",
    "        print(\"*\",end=\" \")\n",
    "    print(\"\\n\")\n",
    "\n",
    "print(\"--------------------------\")\n",
    "for i in range(5,0,-1):\n",
    "    for j in range(0,i):\n",
    "        print(\"*\",end=\" \")\n",
    "    print(\"\\n\")"
   ]
  },
  {
   "cell_type": "markdown",
   "id": "33a57a51-e283-46a4-9afc-ecccfde38b46",
   "metadata": {},
   "source": [
    "# 27. Prime Number Checker: Write a Python program using a while loop to check if a given number N is prime or not."
   ]
  },
  {
   "cell_type": "code",
   "execution_count": null,
   "id": "3524fb94-0ba3-419b-8197-d4827ce4a5ae",
   "metadata": {},
   "outputs": [],
   "source": [
    "#input_number= int(input(\"Please Type a Number to chk whether it is prime or not: \"))\n",
    "#i=2\n",
    "#while i < input_number:\n",
    "   # if input_number % i == 0:\n",
    "    #    break\n",
    "        \n",
    "#print(f'{input_number} is not prime')"
   ]
  },
  {
   "cell_type": "markdown",
   "id": "d88ec790-a2c4-414c-b20e-0e85deeff4c1",
   "metadata": {},
   "source": [
    "# 28. List Manipulation: Given a list of integers, write a Python program using a for loop to find the sum, average, maximum, and minimum values in the list."
   ]
  },
  {
   "cell_type": "code",
   "execution_count": 27,
   "id": "321b920d-cc8e-4f87-add2-6b29a739b84f",
   "metadata": {},
   "outputs": [
    {
     "name": "stdout",
     "output_type": "stream",
     "text": [
      "Sum of the list is: 210\n",
      "Average of the list is: 35.0\n",
      "Maximun value from the list is: 60\n",
      "Minimum value from the list is: 10\n"
     ]
    }
   ],
   "source": [
    "lst=[20,10,60,30,50,40]\n",
    "sum=0\n",
    "for i in lst:\n",
    "    sum=sum+i\n",
    "print(f'Sum of the list is: {sum}')\n",
    "print(f'Average of the list is: {sum/len(lst)}')\n",
    "lst.sort(reverse=True)\n",
    "print(f'Maximun value from the list is: {lst[0]}')\n",
    "lst.sort()\n",
    "print(f'Minimum value from the list is: {lst[0]}')"
   ]
  },
  {
   "cell_type": "markdown",
   "id": "ff6ebbbc-2244-4ea7-af05-a5a637707fe9",
   "metadata": {},
   "source": [
    "# 29. Reverse String: Write a Python program using a while loop to reverse a given string."
   ]
  },
  {
   "cell_type": "code",
   "execution_count": 41,
   "id": "e0a78cff-e291-430e-8cf3-17efdc5eb34b",
   "metadata": {},
   "outputs": [
    {
     "name": "stdin",
     "output_type": "stream",
     "text": [
      "Please Type a string:  bangladesh\n"
     ]
    },
    {
     "name": "stdout",
     "output_type": "stream",
     "text": [
      "hsedalgnab"
     ]
    }
   ],
   "source": [
    "input_string= input(\"Please Type a string: \")\n",
    "length=len(input_string)\n",
    "i=length-1\n",
    "\n",
    "while i >= 0:\n",
    "    print(input_string[i], end='')\n",
    "    i=i-1\n",
    "    "
   ]
  },
  {
   "cell_type": "markdown",
   "id": "34a533e2-12ad-443a-9fd5-682cad81de7d",
   "metadata": {},
   "source": [
    "# 30. Multiplication Table: Write a Python program using nested loops to print the multiplication table from 1 to 10."
   ]
  },
  {
   "cell_type": "code",
   "execution_count": 21,
   "id": "4eecdfb0-70a0-425d-b14f-91ae78380518",
   "metadata": {
    "collapsed": true,
    "jupyter": {
     "outputs_hidden": true
    }
   },
   "outputs": [
    {
     "name": "stdout",
     "output_type": "stream",
     "text": [
      "1 x 1 = 1\n",
      "1 x 2 = 2\n",
      "1 x 3 = 3\n",
      "1 x 4 = 4\n",
      "1 x 5 = 5\n",
      "1 x 6 = 6\n",
      "1 x 7 = 7\n",
      "1 x 8 = 8\n",
      "1 x 9 = 9\n",
      "1 x 10 = 10\n",
      "--------------\n",
      "2 x 1 = 2\n",
      "2 x 2 = 4\n",
      "2 x 3 = 6\n",
      "2 x 4 = 8\n",
      "2 x 5 = 10\n",
      "2 x 6 = 12\n",
      "2 x 7 = 14\n",
      "2 x 8 = 16\n",
      "2 x 9 = 18\n",
      "2 x 10 = 20\n",
      "--------------\n",
      "3 x 1 = 3\n",
      "3 x 2 = 6\n",
      "3 x 3 = 9\n",
      "3 x 4 = 12\n",
      "3 x 5 = 15\n",
      "3 x 6 = 18\n",
      "3 x 7 = 21\n",
      "3 x 8 = 24\n",
      "3 x 9 = 27\n",
      "3 x 10 = 30\n",
      "--------------\n",
      "4 x 1 = 4\n",
      "4 x 2 = 8\n",
      "4 x 3 = 12\n",
      "4 x 4 = 16\n",
      "4 x 5 = 20\n",
      "4 x 6 = 24\n",
      "4 x 7 = 28\n",
      "4 x 8 = 32\n",
      "4 x 9 = 36\n",
      "4 x 10 = 40\n",
      "--------------\n",
      "5 x 1 = 5\n",
      "5 x 2 = 10\n",
      "5 x 3 = 15\n",
      "5 x 4 = 20\n",
      "5 x 5 = 25\n",
      "5 x 6 = 30\n",
      "5 x 7 = 35\n",
      "5 x 8 = 40\n",
      "5 x 9 = 45\n",
      "5 x 10 = 50\n",
      "--------------\n",
      "6 x 1 = 6\n",
      "6 x 2 = 12\n",
      "6 x 3 = 18\n",
      "6 x 4 = 24\n",
      "6 x 5 = 30\n",
      "6 x 6 = 36\n",
      "6 x 7 = 42\n",
      "6 x 8 = 48\n",
      "6 x 9 = 54\n",
      "6 x 10 = 60\n",
      "--------------\n",
      "7 x 1 = 7\n",
      "7 x 2 = 14\n",
      "7 x 3 = 21\n",
      "7 x 4 = 28\n",
      "7 x 5 = 35\n",
      "7 x 6 = 42\n",
      "7 x 7 = 49\n",
      "7 x 8 = 56\n",
      "7 x 9 = 63\n",
      "7 x 10 = 70\n",
      "--------------\n",
      "8 x 1 = 8\n",
      "8 x 2 = 16\n",
      "8 x 3 = 24\n",
      "8 x 4 = 32\n",
      "8 x 5 = 40\n",
      "8 x 6 = 48\n",
      "8 x 7 = 56\n",
      "8 x 8 = 64\n",
      "8 x 9 = 72\n",
      "8 x 10 = 80\n",
      "--------------\n",
      "9 x 1 = 9\n",
      "9 x 2 = 18\n",
      "9 x 3 = 27\n",
      "9 x 4 = 36\n",
      "9 x 5 = 45\n",
      "9 x 6 = 54\n",
      "9 x 7 = 63\n",
      "9 x 8 = 72\n",
      "9 x 9 = 81\n",
      "9 x 10 = 90\n",
      "--------------\n",
      "10 x 1 = 10\n",
      "10 x 2 = 20\n",
      "10 x 3 = 30\n",
      "10 x 4 = 40\n",
      "10 x 5 = 50\n",
      "10 x 6 = 60\n",
      "10 x 7 = 70\n",
      "10 x 8 = 80\n",
      "10 x 9 = 90\n",
      "10 x 10 = 100\n",
      "--------------\n"
     ]
    }
   ],
   "source": [
    "mul=1\n",
    "\n",
    "for i in range(1,11):\n",
    "    for j in range(1,11):\n",
    "        mul=i*j\n",
    "        print(f'{i} x {j} = {mul}')\n",
    "    print(\"--------------\")\n",
    "    mul=1"
   ]
  },
  {
   "cell_type": "markdown",
   "id": "4474dde8-3f59-42ba-ae8b-4b8f109ef4dc",
   "metadata": {},
   "source": [
    "# Print Patterns: Write a Python program using nested loops to print the following pattern:"
   ]
  },
  {
   "cell_type": "code",
   "execution_count": 40,
   "id": "a0bf28d6-84cc-4823-b4b9-50cf1de6d5cf",
   "metadata": {},
   "outputs": [
    {
     "name": "stdout",
     "output_type": "stream",
     "text": [
      "*\n",
      "\n",
      "**\n",
      "\n",
      "***\n",
      "\n",
      "****\n",
      "\n",
      "*****\n",
      "\n"
     ]
    }
   ],
   "source": [
    "for i in range(1,6):\n",
    "    for j in range(1,(i+1)):\n",
    "        print(\"*\",end=\"\")\n",
    "    print(\"\\n\")"
   ]
  },
  {
   "cell_type": "markdown",
   "id": "39f3d4a2-b0aa-4146-8d81-96ff8e1a49b3",
   "metadata": {},
   "source": [
    "# 32. Matrix Multiplication: Write a Python program using nested loops to multiply two matrices."
   ]
  },
  {
   "cell_type": "code",
   "execution_count": 57,
   "id": "9d8fede3-4ca5-42bc-8fe8-b77a391f11bc",
   "metadata": {},
   "outputs": [
    {
     "name": "stdout",
     "output_type": "stream",
     "text": [
      "[17, 39]\n"
     ]
    }
   ],
   "source": [
    "a=[[1,2],[3,4]]\n",
    "b=[5,6]\n",
    "sum=0\n",
    "lst=[]\n",
    "for i in a:\n",
    "    for k in range(0,len(i)):\n",
    "        sum=sum+i[k]*b[k]\n",
    "    lst.append(sum)\n",
    "    sum=0\n",
    "print(lst)"
   ]
  },
  {
   "cell_type": "markdown",
   "id": "7ab4f2af-8b76-4196-9d25-8208ab7ecb3e",
   "metadata": {},
   "source": [
    "# 33. Chessboard Pattern: Write a Python program using nested loops to print a chessboard pattern (alternating “X” and “O” characters) of size 8×8."
   ]
  },
  {
   "cell_type": "code",
   "execution_count": 30,
   "id": "e2217304-060f-4315-90df-333350276ea1",
   "metadata": {},
   "outputs": [
    {
     "name": "stdout",
     "output_type": "stream",
     "text": [
      "X O X O X O X O \n",
      "\n",
      "X O X O X O X O \n",
      "\n",
      "X O X O X O X O \n",
      "\n",
      "X O X O X O X O \n",
      "\n",
      "X O X O X O X O \n",
      "\n",
      "X O X O X O X O \n",
      "\n",
      "X O X O X O X O \n",
      "\n",
      "X O X O X O X O \n",
      "\n"
     ]
    }
   ],
   "source": [
    "for i in range(1,9):\n",
    "    for j in range(1,9):\n",
    "        if j % 2 != 0:\n",
    "            print(\"X\",end=\" \")\n",
    "        else:\n",
    "            print(\"O\", end=\" \")\n",
    "    print(\"\\n\")"
   ]
  },
  {
   "cell_type": "markdown",
   "id": "67ef4346-d3fb-488b-8022-7c72003f7da4",
   "metadata": {},
   "source": [
    "# 34-1. Number Pyramid: Write a Python program using nested loops to print a number pyramid like the following: 1 22 333 4444 55555¶"
   ]
  },
  {
   "cell_type": "code",
   "execution_count": 93,
   "id": "788a718f-a8ac-452e-a3ce-c1c00f55606f",
   "metadata": {},
   "outputs": [
    {
     "name": "stdout",
     "output_type": "stream",
     "text": [
      "1\n",
      "22\n",
      "333\n",
      "4444\n",
      "55555\n"
     ]
    }
   ],
   "source": [
    "for i in range(1,6):\n",
    "    print(i*str(i))"
   ]
  },
  {
   "cell_type": "markdown",
   "id": "bd7cddda-b3ba-4d61-8b9e-0ce22b092b1c",
   "metadata": {},
   "source": [
    "# <font color='red'>*List Problems*</font>"
   ]
  },
  {
   "cell_type": "markdown",
   "id": "f2f31d31-956f-44b2-86c5-d5d0be4bcb0e",
   "metadata": {},
   "source": [
    "# 34-2. List Sum: Write a Python program to find the sum of all elements in a given list of integers."
   ]
  },
  {
   "cell_type": "code",
   "execution_count": 47,
   "id": "fcfc68c1-b2e0-48c6-b67c-7724ab1bdb9f",
   "metadata": {},
   "outputs": [
    {
     "name": "stdout",
     "output_type": "stream",
     "text": [
      "77\n"
     ]
    }
   ],
   "source": [
    "lst=[10,11,15,20,21]\n",
    "sum=0\n",
    "for items in lst:\n",
    "    sum=sum+items\n",
    "print(sum)"
   ]
  },
  {
   "cell_type": "markdown",
   "id": "703acc9a-511e-44ae-b1cb-65ba6f6c2a0e",
   "metadata": {},
   "source": [
    "# 35. List Average: Write a Python program to calculate the average of all elements in a given list of integers."
   ]
  },
  {
   "cell_type": "code",
   "execution_count": 56,
   "id": "7d8f67d0-eba4-4428-a9b0-59c33bee0c9e",
   "metadata": {},
   "outputs": [
    {
     "name": "stdout",
     "output_type": "stream",
     "text": [
      "average is 29.5\n"
     ]
    }
   ],
   "source": [
    "lst=[10,11,15,20,21,100]\n",
    "length=len(lst)\n",
    "sum=0\n",
    "\n",
    "for items in lst:\n",
    "    sum=sum+items\n",
    "print(f'average is {sum/length}')"
   ]
  },
  {
   "cell_type": "markdown",
   "id": "ee96410a-bc28-4234-bafb-dfb38cbf9880",
   "metadata": {},
   "source": [
    "# 36. List Max and Min: Write a Python program to find the maximum and minimum values in a given list of integers."
   ]
  },
  {
   "cell_type": "code",
   "execution_count": 59,
   "id": "d84c79c6-1714-4cfb-84ff-884424805a15",
   "metadata": {},
   "outputs": [
    {
     "name": "stdout",
     "output_type": "stream",
     "text": [
      "maximum value is 100\n",
      "minimum value is 10\n"
     ]
    }
   ],
   "source": [
    "lst=[10,11,15,20,21,100]\n",
    "lst.sort(reverse=True)\n",
    "print(f'maximum value is {lst[0]}')\n",
    "lst.sort()\n",
    "print(f'minimum value is {lst[0]}')"
   ]
  },
  {
   "cell_type": "markdown",
   "id": "be4be05f-6737-47ed-b60d-ea3dd5f0badb",
   "metadata": {},
   "source": [
    "# 37. List Sorting: Write a Python program to sort a list of integers in ascending order."
   ]
  },
  {
   "cell_type": "code",
   "execution_count": 68,
   "id": "0aeb7400-c5a3-496e-8790-01deaa7de1c8",
   "metadata": {},
   "outputs": [
    {
     "data": {
      "text/plain": [
       "[10, 11, 15, 20, 21, 100]"
      ]
     },
     "execution_count": 68,
     "metadata": {},
     "output_type": "execute_result"
    }
   ],
   "source": [
    "lst=[10,15,11,20,100,21]\n",
    "lst.sort()\n",
    "lst"
   ]
  },
  {
   "cell_type": "markdown",
   "id": "92ab8ae5-b278-4433-ab0f-cd9c6d5c0318",
   "metadata": {},
   "source": [
    "# 38. List Filtering: Given a list of integers, write a Python program to create a new list that contains only the even numbers from the original list."
   ]
  },
  {
   "cell_type": "code",
   "execution_count": 72,
   "id": "40f68208-6b61-46c0-9e8b-413ae9b709c0",
   "metadata": {},
   "outputs": [
    {
     "data": {
      "text/plain": [
       "[10, 20, 100, 30, 24]"
      ]
     },
     "execution_count": 72,
     "metadata": {},
     "output_type": "execute_result"
    }
   ],
   "source": [
    "lst=[10,15,11,20,100,21,30,19,24]\n",
    "lst1=[]\n",
    "\n",
    "for items in lst:\n",
    "    if items % 2 == 0:\n",
    "        lst1.append(items)\n",
    "\n",
    "lst1"
   ]
  },
  {
   "cell_type": "markdown",
   "id": "9be1d873-5cb5-49e5-a5fd-92f3d8b7165c",
   "metadata": {},
   "source": [
    "# 39. List Reversal: Write a Python program to reverse a given list without using any built-in functions."
   ]
  },
  {
   "cell_type": "code",
   "execution_count": 41,
   "id": "5c68875e-eac5-4356-ac5a-85c401cca7c8",
   "metadata": {},
   "outputs": [
    {
     "data": {
      "text/plain": [
       "[24, 19, 30, 21, 100, 20, 11, 15, 10]"
      ]
     },
     "execution_count": 41,
     "metadata": {},
     "output_type": "execute_result"
    }
   ],
   "source": [
    "lst=[10,15,11,20,100,21,30,19,24]\n",
    "lst1=[]\n",
    "a=len(lst)\n",
    "\n",
    "for i in range((a-1),-1,-1):\n",
    "    lst1.append(lst[i])\n",
    "\n",
    "lst1"
   ]
  },
  {
   "cell_type": "markdown",
   "id": "b4f62d2b-3a83-4bcc-9d68-82db6bfee6c9",
   "metadata": {},
   "source": [
    "# 40. List Manipulation: Given two lists of integers, write a Python program to create a new list that contains elements common to both lists."
   ]
  },
  {
   "cell_type": "code",
   "execution_count": 78,
   "id": "74f593e4-de4a-4c21-9ba6-ba3dc58495c5",
   "metadata": {},
   "outputs": [
    {
     "name": "stdout",
     "output_type": "stream",
     "text": [
      "[10, 11, 20, 21]\n"
     ]
    }
   ],
   "source": [
    "lst1=[10,15,11,20,100,21,30,19,24]\n",
    "lst2=[20,201,210,10,11,89,21]\n",
    "lst3=[]\n",
    "\n",
    "for i in lst1:\n",
    "    for j in lst2:\n",
    "        if i == j:\n",
    "            lst3.append(i)\n",
    "\n",
    "print(lst3)\n",
    "            "
   ]
  },
  {
   "cell_type": "markdown",
   "id": "3a8078b2-701e-4a99-af27-47d13806e306",
   "metadata": {},
   "source": [
    "# 41. List Element Count: Write a Python program to count the occurrences of a specific element in a given list."
   ]
  },
  {
   "cell_type": "code",
   "execution_count": 89,
   "id": "9deb3a21-8798-46ad-adcc-5692bf2e0a0a",
   "metadata": {},
   "outputs": [
    {
     "data": {
      "text/plain": [
       "3"
      ]
     },
     "execution_count": 89,
     "metadata": {},
     "output_type": "execute_result"
    }
   ],
   "source": [
    "lst1=[10,15,11,20,100,21,30,19,24,100,20,10,11,100]\n",
    "lst1.count(100)"
   ]
  },
  {
   "cell_type": "markdown",
   "id": "ca9a7adc-2f41-4600-8aa7-60541246fcb4",
   "metadata": {},
   "source": [
    "# 42. List Duplicates Removal: Write a Python program to remove duplicates from a given list while preserving the order of the elements."
   ]
  },
  {
   "cell_type": "code",
   "execution_count": 45,
   "id": "789dea3e-a12b-4833-a5c5-f6bf8cd1cfbc",
   "metadata": {},
   "outputs": [
    {
     "data": {
      "text/plain": [
       "[15, 20, 21, 30, 19, 24, 20, 10, 11, 100]"
      ]
     },
     "execution_count": 45,
     "metadata": {},
     "output_type": "execute_result"
    }
   ],
   "source": [
    "lst1=[10,15,11,20,100,21,30,19,24,100,20,10,11,100]\n",
    "\n",
    "for i in lst1:\n",
    "    if lst1.count(i) > 1:\n",
    "        lst1.remove(i)\n",
    "lst1"
   ]
  },
  {
   "cell_type": "markdown",
   "id": "0c4b0de5-eeef-47ea-94d8-158997a0af39",
   "metadata": {},
   "source": [
    "# 43. List Comprehension: Given a list of integers, write a Python program to create a new list that contains the squares of the elements using list comprehension."
   ]
  },
  {
   "cell_type": "code",
   "execution_count": 95,
   "id": "7b9317bb-5c83-45eb-a0df-ebc126c34675",
   "metadata": {},
   "outputs": [
    {
     "data": {
      "text/plain": [
       "[400, 961, 121, 100, 4, 16]"
      ]
     },
     "execution_count": 95,
     "metadata": {},
     "output_type": "execute_result"
    }
   ],
   "source": [
    "lst2=[20,31,11,10,2,4]\n",
    "lst3=[]\n",
    "\n",
    "[lst3.append(items ** 2) for items in lst2]\n",
    "lst3"
   ]
  },
  {
   "cell_type": "markdown",
   "id": "d77f1355-31b7-4016-ab1d-c794df41cf41",
   "metadata": {},
   "source": [
    "# 44. Matrix Addition: Write a Python program to add two matrices represented as nested lists."
   ]
  },
  {
   "cell_type": "code",
   "execution_count": 7,
   "id": "3aac62d3-7d4d-4f1c-a5ac-d56420e099d6",
   "metadata": {},
   "outputs": [
    {
     "data": {
      "text/plain": [
       "[[20, 40], [60, 80]]"
      ]
     },
     "execution_count": 7,
     "metadata": {},
     "output_type": "execute_result"
    }
   ],
   "source": [
    "lst1= [[10,20],[30,40]]\n",
    "lst2= [[10,20],[30,40]]\n",
    "lst3=[]\n",
    "\n",
    "for i in range(2):\n",
    "    lst4=[]\n",
    "    for j in range(2):\n",
    "        lst4.append(lst1[i][j]+lst2[i][j])\n",
    "    lst3.append(lst4)\n",
    "\n",
    "lst3\n"
   ]
  },
  {
   "cell_type": "markdown",
   "id": "1cb3669e-f787-46af-94a5-a0921ecc1957",
   "metadata": {},
   "source": [
    "# 45. Flatten Nested List: Write a Python program to flatten a given nested list and convert it into a single-dimensional list."
   ]
  },
  {
   "cell_type": "code",
   "execution_count": 9,
   "id": "08765e5f-8736-4361-988a-05128ffa1fe1",
   "metadata": {},
   "outputs": [
    {
     "data": {
      "text/plain": [
       "[10, 20, 30, 40]"
      ]
     },
     "execution_count": 9,
     "metadata": {},
     "output_type": "execute_result"
    }
   ],
   "source": [
    "lst1= [[10,20],[30,40]]\n",
    "lst2= []\n",
    "for i in range(2):\n",
    "    for j in range(2):\n",
    "        lst2.append(lst1[i][j])\n",
    "lst2\n"
   ]
  },
  {
   "cell_type": "markdown",
   "id": "9f8cce7e-e1fd-419d-8808-6e4de5435c55",
   "metadata": {},
   "source": [
    "# 46. List Element Frequency: Given a nested list containing lists of integers, write a Python program to count the frequency of each element in the entire nested list."
   ]
  },
  {
   "cell_type": "code",
   "execution_count": 21,
   "id": "ffea5c0b-a800-4426-870e-ef3cb86aa4ad",
   "metadata": {},
   "outputs": [
    {
     "data": {
      "text/plain": [
       "3"
      ]
     },
     "execution_count": 21,
     "metadata": {},
     "output_type": "execute_result"
    }
   ],
   "source": [
    "lst1= [[10,20],[10,10]]\n",
    "lst2= []\n",
    "for i in range(2):\n",
    "    for j in range(2):\n",
    "        lst2.append(lst1[i][j])\n",
    "lst2.count(10)\n"
   ]
  },
  {
   "cell_type": "markdown",
   "id": "b6215a2c-7d68-43b5-bf66-7c3aee6de98c",
   "metadata": {},
   "source": [
    "# 47. Transpose Matrix: Write a Python program to transpose a given matrix represented as a nested list."
   ]
  },
  {
   "cell_type": "code",
   "execution_count": null,
   "id": "a22f84a8-34b3-4b3b-8216-aa7781cae5cb",
   "metadata": {},
   "outputs": [],
   "source": []
  },
  {
   "cell_type": "markdown",
   "id": "a41c24ee-3111-4344-9729-ffb29f35659f",
   "metadata": {},
   "source": [
    "# 48. List of Lists Concatenation: Given a list of nested lists, write a Python program to concatenate all the sublists into a single flat list."
   ]
  },
  {
   "cell_type": "code",
   "execution_count": 1,
   "id": "4f80a5f3-6e74-4c5a-9318-521acef954fc",
   "metadata": {},
   "outputs": [
    {
     "data": {
      "text/plain": [
       "[10, 20, 30, 40]"
      ]
     },
     "execution_count": 1,
     "metadata": {},
     "output_type": "execute_result"
    }
   ],
   "source": [
    "lst1= [[10,20],[30,40]]\n",
    "lst2= []\n",
    "for i in range(2):\n",
    "    for j in range(2):\n",
    "        lst2.append(lst1[i][j])\n",
    "lst2\n"
   ]
  },
  {
   "cell_type": "markdown",
   "id": "92527abd-e3de-440b-82c2-3c114cf8bd63",
   "metadata": {},
   "source": [
    "# 49. Tuple Concatenation: Write a Python program to concatenate two tuples and create a new tuple."
   ]
  },
  {
   "cell_type": "code",
   "execution_count": 13,
   "id": "909a87c5-a6b9-46aa-b63f-7a08383a3931",
   "metadata": {},
   "outputs": [
    {
     "data": {
      "text/plain": [
       "(1, 2, 3, 4, 5, 6)"
      ]
     },
     "execution_count": 13,
     "metadata": {},
     "output_type": "execute_result"
    }
   ],
   "source": [
    "t1 = (1, 2, 3)\n",
    "t2 = (4, 5, 6)\n",
    "concat= t1 + t2\n",
    "concat"
   ]
  },
  {
   "cell_type": "markdown",
   "id": "0e3fb53a-0b2f-4f79-a941-33bbe539ddd3",
   "metadata": {},
   "source": [
    "# 50. Tuple Unpacking: Given a tuple with three elements (x, y, z), write a Python program to unpack the tuple and assign the values to three variables."
   ]
  },
  {
   "cell_type": "code",
   "execution_count": 3,
   "id": "85492b98-44e7-4720-bb5b-7fc83a632114",
   "metadata": {},
   "outputs": [
    {
     "name": "stdout",
     "output_type": "stream",
     "text": [
      "10\n",
      "11\n",
      "12\n"
     ]
    }
   ],
   "source": [
    "t1=(10,11,12)\n",
    "x,y,z=t1\n",
    "print(x)\n",
    "print(y)\n",
    "print(z)"
   ]
  },
  {
   "cell_type": "markdown",
   "id": "22ae9bd2-9495-4739-8af9-ecec035e3f53",
   "metadata": {},
   "source": [
    "# 51. Tuple Sorting: Write a Python program to sort a tuple of integers in ascending order."
   ]
  },
  {
   "cell_type": "code",
   "execution_count": 50,
   "id": "50443c9b-282d-41d5-a367-ad3e280085b5",
   "metadata": {},
   "outputs": [
    {
     "data": {
      "text/plain": [
       "[5, 8, 9, 10, 11, 12, 20]"
      ]
     },
     "execution_count": 50,
     "metadata": {},
     "output_type": "execute_result"
    }
   ],
   "source": [
    "a=(10,11,8,12,20,5,9)\n",
    "sorted(a)"
   ]
  },
  {
   "cell_type": "markdown",
   "id": "8b41c157-a59c-43f9-ac57-aa47d1c0e0f0",
   "metadata": {},
   "source": [
    "# 52. Tuple Frequency Count: Given a tuple containing various elements, write a Python program to count the frequency of a specific element in the tuple."
   ]
  },
  {
   "cell_type": "code",
   "execution_count": 54,
   "id": "ce67576a-332a-456a-9369-27a69129d5dd",
   "metadata": {},
   "outputs": [
    {
     "data": {
      "text/plain": [
       "3"
      ]
     },
     "execution_count": 54,
     "metadata": {},
     "output_type": "execute_result"
    }
   ],
   "source": [
    "a=(10,11,8,12,20,5,9,10,8,12,12,12,\"BD\",\"BD\",\"BD\")\n",
    "a.count(\"BD\")"
   ]
  },
  {
   "cell_type": "markdown",
   "id": "fd400285-e2cc-43e5-b0a7-1f1aa6c45020",
   "metadata": {},
   "source": [
    "# 53. Tuple to List: Write a Python program to convert a tuple into a list. "
   ]
  },
  {
   "cell_type": "code",
   "execution_count": 68,
   "id": "b8f6479b-2f42-4eb9-b64c-d262439a6d1d",
   "metadata": {},
   "outputs": [
    {
     "data": {
      "text/plain": [
       "[10, 20, 30, 8, 5]"
      ]
     },
     "execution_count": 68,
     "metadata": {},
     "output_type": "execute_result"
    }
   ],
   "source": [
    "t1=(10,20,30,8,5)\n",
    "lst=list(t1)\n",
    "lst"
   ]
  },
  {
   "cell_type": "markdown",
   "id": "4307b45c-388e-4257-a2f5-cecc4b67dfbd",
   "metadata": {},
   "source": [
    "# 54. Tuple Reversal: Write a Python program to reverse a tuple without using any built-in functions."
   ]
  },
  {
   "cell_type": "code",
   "execution_count": 1,
   "id": "3dcc8620-725a-480b-aa2c-bb2fdfddb491",
   "metadata": {},
   "outputs": [
    {
     "data": {
      "text/plain": [
       "(5, 8, 30, 20, 10)"
      ]
     },
     "execution_count": 1,
     "metadata": {},
     "output_type": "execute_result"
    }
   ],
   "source": [
    "t4=(10,20,30,8,5)\n",
    "t4=t4[::-1]\n",
    "t4"
   ]
  },
  {
   "cell_type": "markdown",
   "id": "cfa5be70-5929-4bc7-b5b8-9c755a9d5915",
   "metadata": {},
   "source": [
    "# 55. Tuple Slicing: Given a tuple, write a Python program to extract a slice of elements from it."
   ]
  },
  {
   "cell_type": "code",
   "execution_count": 4,
   "id": "19f466d7-9618-49c5-8669-adab44c2d68e",
   "metadata": {},
   "outputs": [
    {
     "data": {
      "text/plain": [
       "(20, 30, 8)"
      ]
     },
     "execution_count": 4,
     "metadata": {},
     "output_type": "execute_result"
    }
   ],
   "source": [
    "t4=(10,20,30,8,5,25,11,2)\n",
    "t4=t4[1:4:1]\n",
    "t4"
   ]
  },
  {
   "cell_type": "markdown",
   "id": "3332eb64-e569-488a-a292-3348c4c1f061",
   "metadata": {},
   "source": [
    "# 56. Tuple Operations: Given two tuples of integers, write a Python program to perform element-wise addition, subtraction, and multiplication and create new tuples for each operation."
   ]
  },
  {
   "cell_type": "code",
   "execution_count": 77,
   "id": "5d4e164f-ce73-4913-ae40-ad12ce3a8747",
   "metadata": {},
   "outputs": [
    {
     "name": "stdout",
     "output_type": "stream",
     "text": [
      "(5, 7, 9) (-3, -3, -3) (4, 10, 18)\n"
     ]
    }
   ],
   "source": [
    "t1=(1,2,3)\n",
    "t2=(4,5,6)\n",
    "if len(t1) == len(t2):\n",
    "    add=tuple(a+b for a,b in zip(t1,t2))    \n",
    "    sub=tuple(a-b for a,b in zip(t1,t2))    \n",
    "    mul=tuple(a*b for a,b in zip(t1,t2))  \n",
    "    print(add,sub,mul)\n",
    "else:\n",
    "    print(\"operations not possible\")"
   ]
  },
  {
   "cell_type": "markdown",
   "id": "05e93dd6-1a98-4bfb-b2ce-0e3cedfc9edc",
   "metadata": {},
   "source": [
    "# 57. Tuple Membership Test: Write a Python program that takes an element as input and checks if it exists in a given tuple."
   ]
  },
  {
   "cell_type": "code",
   "execution_count": 15,
   "id": "34059e88-285f-4bd5-be6e-8ab991af5683",
   "metadata": {},
   "outputs": [
    {
     "data": {
      "text/plain": [
       "True"
      ]
     },
     "execution_count": 15,
     "metadata": {},
     "output_type": "execute_result"
    }
   ],
   "source": [
    "t4=(10,20,30,8,5,25,11,2,'xashid')\n",
    "\n",
    "'xashid' in t4"
   ]
  },
  {
   "cell_type": "markdown",
   "id": "01cabe91-c4cf-4670-8056-ad62209ad3ed",
   "metadata": {},
   "source": [
    "# 58. Tuple Packing: Write a Python program to pack three variables into a single tuple and print the tuple."
   ]
  },
  {
   "cell_type": "code",
   "execution_count": null,
   "id": "1c750121-f2cd-494c-b640-6f52791952fd",
   "metadata": {},
   "outputs": [],
   "source": []
  },
  {
   "cell_type": "markdown",
   "id": "4bdc4bde-9fe8-40c9-acb7-e5cfac7fea37",
   "metadata": {},
   "source": [
    "# 59. Nested List Element Access: Given a nested list, write a Python program to access and print specific elements from it."
   ]
  },
  {
   "cell_type": "code",
   "execution_count": 34,
   "id": "13304ef8-a035-4b2d-b299-426486b1a926",
   "metadata": {},
   "outputs": [
    {
     "name": "stdin",
     "output_type": "stream",
     "text": [
      "Please Type your desired row number:  1\n",
      "Please Type your desired column number:  2\n"
     ]
    },
    {
     "name": "stdout",
     "output_type": "stream",
     "text": [
      "Your cell value for 1th row and 2th column is: 20\n"
     ]
    }
   ],
   "source": [
    "lst1= [[10,20],[30,40],[50,60]]\n",
    "\n",
    "input_row_number= int(input(\"Please Type your desired row number: \"))\n",
    "input_column_number= int(input(\"Please Type your desired column number: \"))\n",
    "print(f'Your cell value for {(input_row_number)}th row and {(input_column_number)}th column is: {lst1[(input_row_number-1)][(input_column_number-1)]}') \n",
    "\n"
   ]
  },
  {
   "cell_type": "markdown",
   "id": "8e984242-4efa-45eb-b23a-5ee7ef86e51f",
   "metadata": {},
   "source": [
    "# 60. Nested List Flattening: Write a Python program to flatten a nested list and convert it into a single-dimensional list."
   ]
  },
  {
   "cell_type": "code",
   "execution_count": 4,
   "id": "b2c2bf0c-45e2-4fc4-98af-971f4be924db",
   "metadata": {},
   "outputs": [
    {
     "data": {
      "text/plain": [
       "[10, 20, 30, 40]"
      ]
     },
     "execution_count": 4,
     "metadata": {},
     "output_type": "execute_result"
    }
   ],
   "source": [
    "lst1= [[10,20],[30,40]]\n",
    "lst2= []\n",
    "for i in range(2):\n",
    "    for j in range(2):\n",
    "        lst2.append(lst1[i][j])\n",
    "lst2\n"
   ]
  },
  {
   "cell_type": "markdown",
   "id": "9f88d853-a009-4255-bae3-bcea58ec65d3",
   "metadata": {},
   "source": [
    "# 61. Nested List Sorting: Given a nested list containing lists of integers, write a Python program to sort the sublists based on their lengths."
   ]
  },
  {
   "cell_type": "code",
   "execution_count": 78,
   "id": "4a7ceaf2-c1c1-4b7e-ab8b-0ba55103883a",
   "metadata": {},
   "outputs": [
    {
     "data": {
      "text/plain": [
       "[[1, 5, 8, 9], [1, 2, 3, 11, 12], [4, 10, 11, 33, 44]]"
      ]
     },
     "execution_count": 78,
     "metadata": {},
     "output_type": "execute_result"
    }
   ],
   "source": [
    "lst=[[1,9,5,8],[2,3,11,12,1],[11,10,4,44,33]]\n",
    "lst1=[]\n",
    "\n",
    "for i in lst:\n",
    "    lst1.append(sorted(i))\n",
    "\n",
    "lst1"
   ]
  },
  {
   "cell_type": "markdown",
   "id": "3f766aaa-4b17-40e8-8dc0-79cc9139aa42",
   "metadata": {},
   "source": [
    "# 62. List of Tuples Conversion: Given a nested list containing tuples of (x, y) coordinates, write a Python program to convert it into a list of x-coordinates and a list of y-coordinates."
   ]
  },
  {
   "cell_type": "code",
   "execution_count": 72,
   "id": "967f5122-78c8-4997-a073-fdd9453d0af5",
   "metadata": {},
   "outputs": [
    {
     "data": {
      "text/plain": [
       "([1, 3, 5], [2, 4, 6])"
      ]
     },
     "execution_count": 72,
     "metadata": {},
     "output_type": "execute_result"
    }
   ],
   "source": [
    "tpl=((1,2),(3,4),(5,6))\n",
    "x=[]\n",
    "y=[]\n",
    "\n",
    "for i in range(3):\n",
    "        x.append(tpl[i][0])\n",
    "        \n",
    "for i in range(3):\n",
    "        y.append(tpl[i][1])\n",
    "\n",
    "x,y"
   ]
  },
  {
   "cell_type": "markdown",
   "id": "f11d9439-1ec5-4222-8841-d5b2412f2c7b",
   "metadata": {},
   "source": [
    "# 63. Matrix Transpose: Write a Python program to transpose a given matrix represented as a nested list."
   ]
  },
  {
   "cell_type": "code",
   "execution_count": null,
   "id": "0cc0a88b-ff0d-4232-bdc7-39405912c068",
   "metadata": {},
   "outputs": [],
   "source": [
    "\n"
   ]
  },
  {
   "cell_type": "markdown",
   "id": "b8c3a2ca-0c97-45a0-884f-da5a0d962e91",
   "metadata": {},
   "source": [
    "# 64. Nested List Concatenation: Given a list of nested lists, write a Python program to concatenate all the sublists into a single flat list."
   ]
  },
  {
   "cell_type": "code",
   "execution_count": 5,
   "id": "f7fbc1e2-a5d9-451f-a214-9069c0ef7ac5",
   "metadata": {},
   "outputs": [
    {
     "data": {
      "text/plain": [
       "[10, 20, 30, 40]"
      ]
     },
     "execution_count": 5,
     "metadata": {},
     "output_type": "execute_result"
    }
   ],
   "source": [
    "lst1= [[10,20],[30,40]]\n",
    "lst2= []\n",
    "for i in range(2):\n",
    "    for j in range(2):\n",
    "        lst2.append(lst1[i][j])\n",
    "lst2\n"
   ]
  },
  {
   "cell_type": "markdown",
   "id": "829bc34f-45f0-4c62-b39d-70f7f01efb71",
   "metadata": {},
   "source": [
    "# 65. Count Even Numbers: Write a Python program to count the number of even numbers in a nested list."
   ]
  },
  {
   "cell_type": "code",
   "execution_count": 5,
   "id": "e79addc1-6c7b-4643-a125-bc48d53e6de3",
   "metadata": {},
   "outputs": [
    {
     "data": {
      "text/plain": [
       "[2, 4, 10, 12, 8, 16, 20, 22]"
      ]
     },
     "execution_count": 5,
     "metadata": {},
     "output_type": "execute_result"
    }
   ],
   "source": [
    "lst=[2,4,[10,11,12,\"cd\",15,17],7,8,16,[20,21,22,\"abc\"]]\n",
    "lst_class=[]\n",
    "even=[]\n",
    "\n",
    "for i in lst:\n",
    "    if type(i) == int:\n",
    "        if i % 2 == 0:\n",
    "            even.append(i)\n",
    "    elif type(i) == list:\n",
    "        for j in i:\n",
    "            if type(j) == int:\n",
    "                if j % 2 == 0:\n",
    "                    even.append(j)\n",
    "even"
   ]
  },
  {
   "cell_type": "markdown",
   "id": "eb190f3b-bfc7-4ea2-b8de-b8971e227a0f",
   "metadata": {},
   "source": [
    "# 66. Maximum Element in Nested List: Write a Python program to find the maximum element in a nested list of integers."
   ]
  },
  {
   "cell_type": "code",
   "execution_count": 40,
   "id": "f95cbbe4-e3d8-4875-9cb7-36fd1f90437b",
   "metadata": {},
   "outputs": [
    {
     "name": "stdout",
     "output_type": "stream",
     "text": [
      "[7, 8, 16, 19, 'tiger', 'lion', 'cat'] has the highest elements of 7\n"
     ]
    }
   ],
   "source": [
    "lst=[[2,4],[10,11,12,\"cd\",15,17],[7,8,16,19,\"tiger\",\"lion\",\"cat\"],[20,21,22,\"abc\"]]\n",
    "indx=[]\n",
    "element=[]\n",
    "\n",
    "for i in lst:\n",
    "    element.append(len(i))\n",
    "\n",
    "a=max(element)\n",
    "b=element.index(a)\n",
    "\n",
    "print(f'{lst[b]} has the highest elements of {a}')\n"
   ]
  },
  {
   "cell_type": "markdown",
   "id": "e15c4ae5-b90a-4723-bb18-b1022f62ded8",
   "metadata": {},
   "source": [
    "# 67. Diagonal Sum of Matrix: Given a square matrix represented as a nested list, write a Python program to calculate the sum of the elements in the main diagonal."
   ]
  },
  {
   "cell_type": "code",
   "execution_count": 96,
   "id": "146e58ef-0930-4ec3-8d7d-143fba9f96db",
   "metadata": {},
   "outputs": [
    {
     "name": "stdout",
     "output_type": "stream",
     "text": [
      "23\n"
     ]
    }
   ],
   "source": [
    "lst=[[8,4,5],[1,2,3],[10,11,13]]\n",
    "sum=0\n",
    "for i in range(0,len(lst)):\n",
    "    for j in range(0,len(lst)):\n",
    "        if i == j:\n",
    "            sum=sum+lst[i][j]\n",
    "print(sum)"
   ]
  },
  {
   "cell_type": "markdown",
   "id": "ea0b96a9-9425-4931-9007-5a8473d506f2",
   "metadata": {},
   "source": [
    "# 68. Nested List Element Search: Write a Python program to search for a specific element in a nested list and return its position (row and column indices)."
   ]
  },
  {
   "cell_type": "code",
   "execution_count": 84,
   "id": "38de65d7-4576-4a66-be65-ffb00c90a70a",
   "metadata": {},
   "outputs": [
    {
     "name": "stdin",
     "output_type": "stream",
     "text": [
      "Please give number:  8\n"
     ]
    },
    {
     "name": "stdout",
     "output_type": "stream",
     "text": [
      "Row Number is: 3\n",
      "column Number is: 2\n"
     ]
    }
   ],
   "source": [
    "lst=[[2,4],[10,11,12],[5,8,7,9],[20,30]]\n",
    "\n",
    "number=int(input(\"Please give number: \"))\n",
    "\n",
    "for i in range(0,len(lst)):\n",
    "    for j in range(0,len(lst[i])):\n",
    "        if lst[i][j] == number:\n",
    "            print(f'Row Number is: {i+1}')\n",
    "            print(f'column Number is: {j+1}')"
   ]
  },
  {
   "cell_type": "markdown",
   "id": "d0b2ff49-6c3e-4673-a845-5ddc39a8e767",
   "metadata": {},
   "source": [
    "#   <font color='red'>*Set Problems:*</font> "
   ]
  },
  {
   "cell_type": "markdown",
   "id": "c194cd85-9c0d-4f49-84a3-2e14f96a66de",
   "metadata": {},
   "source": [
    "# 69. Duplicate Removal: Write a Python program that takes a list of elements as input and creates a new set containing only the unique elements from the list."
   ]
  },
  {
   "cell_type": "code",
   "execution_count": 54,
   "id": "2fa1c186-1143-4753-a489-04b3d813a759",
   "metadata": {},
   "outputs": [
    {
     "name": "stdin",
     "output_type": "stream",
     "text": [
      "How many inputs do u want in list:  4\n",
      "numbers:  d\n",
      "numbers:  d\n",
      "numbers:  a\n",
      "numbers:  c\n"
     ]
    },
    {
     "data": {
      "text/plain": [
       "{'a', 'c', 'd'}"
      ]
     },
     "execution_count": 54,
     "metadata": {},
     "output_type": "execute_result"
    }
   ],
   "source": [
    "lst10=[]\n",
    "lst20=[]\n",
    "a=int(input(\"How many inputs do u want in list: \"))\n",
    "\n",
    "for j in range(0,a):\n",
    "\tlst10.append(input(\"numbers: \"))\n",
    "\n",
    "for i in lst10:\n",
    "    if lst10.count(i) > 1:\n",
    "        lst10.remove(i)\n",
    "set10=set(lst10)\n",
    "set10\n"
   ]
  },
  {
   "cell_type": "markdown",
   "id": "b9c4b34e-8edd-4eff-a763-1b84d95ae08e",
   "metadata": {},
   "source": [
    "# 70. Set Intersection: Given two sets A and B, write a Python program to find their intersection and print the common elements."
   ]
  },
  {
   "cell_type": "code",
   "execution_count": 196,
   "id": "8e4ce410-63fb-40e8-b8f2-3daddd5b7c72",
   "metadata": {},
   "outputs": [
    {
     "data": {
      "text/plain": [
       "{2, 3}"
      ]
     },
     "execution_count": 196,
     "metadata": {},
     "output_type": "execute_result"
    }
   ],
   "source": [
    "A={1,2,3}\n",
    "B={4,5,6,2,3}\n",
    "\n",
    "C= A & B\n",
    "C"
   ]
  },
  {
   "cell_type": "markdown",
   "id": "dbf62167-cb3e-40f6-b6f8-9f090e44b9b5",
   "metadata": {},
   "source": [
    "# 71. Set Union: Given two sets A and B, write a Python program to find their union and print all the distinct elements from both sets."
   ]
  },
  {
   "cell_type": "code",
   "execution_count": 209,
   "id": "b027ff0a-bf01-42f6-92fc-5ca3153b0733",
   "metadata": {},
   "outputs": [
    {
     "data": {
      "text/plain": [
       "{1, 2, 3, 4, 5, 6}"
      ]
     },
     "execution_count": 209,
     "metadata": {},
     "output_type": "execute_result"
    }
   ],
   "source": [
    "A={1,2,3}\n",
    "B={4,5,6,2,3}\n",
    "\n",
    "C= A | B\n",
    "C"
   ]
  },
  {
   "cell_type": "markdown",
   "id": "a13d0b40-57b6-4462-b24d-52a369ccd56c",
   "metadata": {},
   "source": [
    "# 72. Set Difference: Given two sets A and B, write a Python program to find the difference between set A and set B (i.e., elements present in A but not in B) and print the result."
   ]
  },
  {
   "cell_type": "code",
   "execution_count": 200,
   "id": "3b404585-4b52-4374-88db-4e41200a4321",
   "metadata": {},
   "outputs": [
    {
     "data": {
      "text/plain": [
       "{1}"
      ]
     },
     "execution_count": 200,
     "metadata": {},
     "output_type": "execute_result"
    }
   ],
   "source": [
    "A={1,2,3}\n",
    "B={4,5,6,2,3}\n",
    "C=A-B\n",
    "C"
   ]
  },
  {
   "cell_type": "markdown",
   "id": "5258c391-2f96-4cdd-a298-39f7530e486a",
   "metadata": {},
   "source": [
    "# 73. Set Symmetric Difference: Given two sets A and B, write a Python program to find the symmetric difference between the two sets (i.e., elements that are present in either set A or set B, but not in both) and print the result."
   ]
  },
  {
   "cell_type": "code",
   "execution_count": 95,
   "id": "e86ffd4b-ff52-4155-a791-5f12bf11879e",
   "metadata": {},
   "outputs": [
    {
     "data": {
      "text/plain": [
       "{1, 4, 5, 6}"
      ]
     },
     "execution_count": 95,
     "metadata": {},
     "output_type": "execute_result"
    }
   ],
   "source": [
    "A={1,2,3}\n",
    "B={4,5,6,2,3}\n",
    "C= A ^ B\n",
    "C"
   ]
  },
  {
   "cell_type": "markdown",
   "id": "f445a9bf-f7e4-40d3-bd02-c091b48f7deb",
   "metadata": {},
   "source": [
    "# 74. Set Operations: Given three sets A, B, and C, write a Python program to find and print the intersection of A and B, the union of B and C, and the difference between C and A."
   ]
  },
  {
   "cell_type": "code",
   "execution_count": 97,
   "id": "5742cf12-7203-4461-bc9e-4e04b1678df9",
   "metadata": {},
   "outputs": [
    {
     "name": "stdout",
     "output_type": "stream",
     "text": [
      "{2, 3}\n",
      "{2, 3, 4, 5, 6, 10, 11, 12}\n",
      "{5, 6, 10, 11, 12}\n"
     ]
    }
   ],
   "source": [
    "A={1,2,3}\n",
    "B={4,5,6,2,3}\n",
    "C={10,11,12,5,6}\n",
    "\n",
    "print(A & B)\n",
    "print(B | C)\n",
    "print(C - A)"
   ]
  },
  {
   "cell_type": "markdown",
   "id": "fe2f9d36-b17a-463c-bed8-4638898d9b41",
   "metadata": {},
   "source": [
    "# 75. Set Subset Check: Given two sets A and B, write a Python program to check if set A is a subset of set B and print the result."
   ]
  },
  {
   "cell_type": "code",
   "execution_count": 7,
   "id": "31996e39-cd82-49a5-a101-7be813679e70",
   "metadata": {},
   "outputs": [
    {
     "name": "stdout",
     "output_type": "stream",
     "text": [
      "True\n"
     ]
    }
   ],
   "source": [
    "A={10,20,30}\n",
    "B={10,40,50,60,20,30}\n",
    "C= A.issubset(B)\n",
    "print(C)"
   ]
  },
  {
   "cell_type": "markdown",
   "id": "146e541c-d798-4f1d-95eb-057aeb5ba43f",
   "metadata": {},
   "source": [
    "# 76. Set Superset Check: Given two sets A and B, write a Python program to check if set A is a superset of set B and print the result."
   ]
  },
  {
   "cell_type": "code",
   "execution_count": 8,
   "id": "b3c326e6-3122-4f6a-9697-ffc2d6cf11cf",
   "metadata": {},
   "outputs": [
    {
     "name": "stdout",
     "output_type": "stream",
     "text": [
      "True\n"
     ]
    }
   ],
   "source": [
    "A={10,20,30}\n",
    "B={10,40,50,60,20,30}\n",
    "C= B.issuperset(A)\n",
    "print(C)"
   ]
  },
  {
   "cell_type": "markdown",
   "id": "898661b2-8e1a-4c62-a2c1-422206cf89c8",
   "metadata": {},
   "source": [
    "# 77. Set Length Check: Write a Python program that takes a set as input and prints the number of elements in the set."
   ]
  },
  {
   "cell_type": "code",
   "execution_count": 112,
   "id": "a234e281-20d0-401a-afac-660e7a563681",
   "metadata": {},
   "outputs": [
    {
     "name": "stdin",
     "output_type": "stream",
     "text": [
      "Please:  bangladesh\n"
     ]
    },
    {
     "data": {
      "text/plain": [
       "9"
      ]
     },
     "execution_count": 112,
     "metadata": {},
     "output_type": "execute_result"
    }
   ],
   "source": [
    "A=set(input(\"Please: \"))\n",
    "A\n",
    "count=0\n",
    "for i in A:\n",
    "    count=count+1\n",
    "count"
   ]
  },
  {
   "cell_type": "markdown",
   "id": "f342fd88-a75d-4f9e-b274-f21266a372b9",
   "metadata": {},
   "source": [
    "# 77-2. Set Membership Test: Write a Python program that takes an element as input and checks if it exists in a given set. Print “Found” if the element is present and “Not Found” otherwise."
   ]
  },
  {
   "cell_type": "code",
   "execution_count": 116,
   "id": "96fd7977-0977-4643-8592-a9a6d6baf6a4",
   "metadata": {},
   "outputs": [
    {
     "name": "stdin",
     "output_type": "stream",
     "text": [
      "Please:  1\n"
     ]
    },
    {
     "name": "stdout",
     "output_type": "stream",
     "text": [
      "Not Found\n"
     ]
    }
   ],
   "source": [
    "B={4,5,6,2,3}\n",
    "A=int(input(\"Please: \"))\n",
    "\n",
    "if A in B:\n",
    "    print(\"Found\")\n",
    "else:\n",
    "    print(\"Not Found\")"
   ]
  },
  {
   "cell_type": "markdown",
   "id": "bfaf6f62-255d-484f-83f6-d7f955ccd1a4",
   "metadata": {},
   "source": [
    "#   <font color='red'>*Dictionary Problems*</font> "
   ]
  },
  {
   "cell_type": "markdown",
   "id": "629a1a65-037e-4db0-ac14-2beeca9a28e2",
   "metadata": {},
   "source": [
    "# 77. Dictionary Manipulation: Given a dictionary with student names as keys and their corresponding scores as values, write a Python program to add a new student to the dictionary and update the score of an existing student."
   ]
  },
  {
   "cell_type": "code",
   "execution_count": 31,
   "id": "32989478-643d-4017-b002-c529784cf10f",
   "metadata": {},
   "outputs": [
    {
     "name": "stdin",
     "output_type": "stream",
     "text": [
      "how many keys do u want to add:  2\n",
      "Input 1st Student name:  Jashim\n",
      "Input 2st Student name:  Palash\n",
      "Please input Jashim\"s mark 81\n",
      "Please input Palash\"s mark 87\n"
     ]
    },
    {
     "name": "stdout",
     "output_type": "stream",
     "text": [
      "Updated Student List is: {'Mamun': 81, 'Rahim': 86, 'Zahir': 80, 'Roton': 90, 'Kashem': 95, 'Jashim': 81, 'Palash': 87}\n"
     ]
    },
    {
     "name": "stdin",
     "output_type": "stream",
     "text": [
      "For how many values do u want to change:  3\n",
      "Input 1st Student name:  Mamum\n",
      "Input 2st Student name:  Rahim\n",
      "Input 3st Student name:  Palash\n",
      "Please input Mamum\"s mark:  77\n",
      "Please input Rahim\"s mark:  90\n",
      "Please input Palash\"s mark:  93\n"
     ]
    },
    {
     "data": {
      "text/plain": [
       "{'Mamun': 81,\n",
       " 'Rahim': 90,\n",
       " 'Zahir': 80,\n",
       " 'Roton': 90,\n",
       " 'Kashem': 95,\n",
       " 'Jashim': 81,\n",
       " 'Palash': 93,\n",
       " 'Mamum': 77}"
      ]
     },
     "execution_count": 31,
     "metadata": {},
     "output_type": "execute_result"
    }
   ],
   "source": [
    "students={\"Mamun\": 81, \"Rahim\": 86, \"Zahir\": 80, \"Roton\": 90, \"Kashem\": 95}\n",
    "\n",
    "Total_key=int(input(\"how many keys do u want to add: \"))\n",
    "\n",
    "students_name=[]\n",
    "students_marks=[]\n",
    "\n",
    "for i in range(0,Total_key):\n",
    "    students_name.append(input(f'Input {i+1}st Student name: '))\n",
    "\n",
    "for i in range(0,Total_key):\n",
    "    students_marks.append(int(input(f'Please input {students_name[i]}\"s mark')))\n",
    "\n",
    "zipping=dict(zip(students_name,students_marks))\n",
    "\n",
    "students.update(zipping)\n",
    "\n",
    "print(f'Updated Student List is: {students}')\n",
    "\n",
    "\n",
    "Total_change=int(input(\"For how many values do u want to change: \"))\n",
    "\n",
    "intended_name_to_change=[]\n",
    "intended_value_to_change=[]\n",
    "\n",
    "for i in range(0,Total_change):\n",
    "    intended_name_to_change.append(input(f'Input {i+1}st Student name: '))\n",
    "    \n",
    "for i in range(0,Total_change):\n",
    "    intended_value_to_change.append(int(input(f'Please input {intended_name_to_change[i]}\"s mark: ')))\n",
    "\n",
    "\n",
    "next_zipping=dict(zip(intended_name_to_change,intended_value_to_change))\n",
    "\n",
    "students.update(next_zipping)\n",
    "students\n"
   ]
  },
  {
   "cell_type": "markdown",
   "id": "21898a5c-6890-470b-9921-8fc2853fc0f8",
   "metadata": {},
   "source": [
    "# 78. Dictionary Keys and Values: Write a Python program that takes a dictionary as input and prints all the keys and values in separate lines."
   ]
  },
  {
   "cell_type": "code",
   "execution_count": 43,
   "id": "3894481d-29b4-4c2c-a413-7fa0429f4caa",
   "metadata": {},
   "outputs": [
    {
     "name": "stdin",
     "output_type": "stream",
     "text": [
      "How many keys do u want:  2\n",
      "please give your 1st key:  XASHID\n",
      "please give your 1st key value:  100\n",
      "please give your 2st key:  iqbal\n",
      "please give your 2st key value:  200\n"
     ]
    },
    {
     "name": "stdout",
     "output_type": "stream",
     "text": [
      "XASHID\n",
      "iqbal\n",
      "the values are below\n",
      "100\n",
      "200\n"
     ]
    }
   ],
   "source": [
    "empty={}\n",
    "\n",
    "total_keys=int(input(\"How many keys do u want: \"))\n",
    "\n",
    "for i in range(total_keys):\n",
    "    key=input(f'please give your {i+1}st key: ')\n",
    "    value=int(input(f'please give your {i+1}st key value: '))\n",
    "    empty.update({key:value})\n",
    "empty\n",
    "\n",
    "\n",
    "for i in empty:\n",
    "    print(i)\n",
    "    \n",
    "print(\"the values are below\")\n",
    "\n",
    "for i in empty:\n",
    "    print(empty[i])"
   ]
  },
  {
   "cell_type": "markdown",
   "id": "f0ce07ab-b3f7-4ffa-bc14-b338243da44d",
   "metadata": {},
   "source": [
    "# 79. Dictionary Length: Write a Python program to calculate and print the number of key-value pairs in a given dictionary."
   ]
  },
  {
   "cell_type": "code",
   "execution_count": 44,
   "id": "2bcd64a7-ebcd-4d33-ad02-c1dc3cf2a28a",
   "metadata": {},
   "outputs": [
    {
     "name": "stdout",
     "output_type": "stream",
     "text": [
      "5\n"
     ]
    }
   ],
   "source": [
    "students={\"Mamun\": 81, \"Rahim\": 86, \"Zahir\": 80, \"Roton\": 90, \"Kashem\": 95}\n",
    "\n",
    "print(len(students))"
   ]
  },
  {
   "cell_type": "markdown",
   "id": "6827dd32-8a8f-466b-a13e-09261789b68e",
   "metadata": {},
   "source": [
    "# 80. Dictionary Value Search: Given a dictionary of items and their prices, write a Python program to search for an item based on its price and print the item’s name."
   ]
  },
  {
   "cell_type": "code",
   "execution_count": 69,
   "id": "49b748c8-d7f2-40b7-a7c8-ada453839863",
   "metadata": {},
   "outputs": [
    {
     "name": "stdin",
     "output_type": "stream",
     "text": [
      "which items name do u want by its price:  81\n"
     ]
    },
    {
     "data": {
      "text/plain": [
       "{'Apple'}"
      ]
     },
     "execution_count": 69,
     "metadata": {},
     "output_type": "execute_result"
    }
   ],
   "source": [
    "fruits={\"Apple\": 81, \"Banana\": 50, \"Mango\": 80, \"Jackfruit\": 90, \"lichi\": 95}\n",
    "\n",
    "price=int(input(\"which items name do u want by its price: \"))\n",
    "\n",
    "items_name={i for i,j in fruits.items() if j == price}\n",
    "items_name"
   ]
  },
  {
   "cell_type": "markdown",
   "id": "70b3677b-093b-4d98-b150-4068f7a63692",
   "metadata": {},
   "source": [
    "# 81. Dictionary Merging: Given two dictionaries, write a Python program to merge them into a single dictionary and print the result."
   ]
  },
  {
   "cell_type": "code",
   "execution_count": 8,
   "id": "8b4968b8-13fb-481b-97cc-c392aa28d4c9",
   "metadata": {},
   "outputs": [
    {
     "data": {
      "text/plain": [
       "{'Apple': 81,\n",
       " 'Banana': 50,\n",
       " 'Mango': 80,\n",
       " 'Jackfruit': 90,\n",
       " 'lichi': 95,\n",
       " 'Mamun': 81,\n",
       " 'Rahim': 86,\n",
       " 'Zahir': 80,\n",
       " 'Roton': 90,\n",
       " 'Kashem': 95}"
      ]
     },
     "execution_count": 8,
     "metadata": {},
     "output_type": "execute_result"
    }
   ],
   "source": [
    "fruits={\"Apple\": 81, \"Banana\": 50, \"Mango\": 80, \"Jackfruit\": 90, \"lichi\": 95}\n",
    "students={\"Mamun\": 81, \"Rahim\": 86, \"Zahir\": 80, \"Roton\": 90, \"Kashem\": 95}\n",
    "\n",
    "#option-01\n",
    "#------------------------\n",
    "#fruits.update(students)\n",
    "#fruits\n",
    "\n",
    "##Option-2\n",
    "#------------------------\n",
    "merged = fruits | students\n",
    "merged\n"
   ]
  },
  {
   "cell_type": "markdown",
   "id": "1d31f246-335e-4553-82bf-d45f795be4f9",
   "metadata": {},
   "source": [
    "# 82. Dictionary Key Removal: Given a dictionary of items and their quantities, write a Python program to remove a specific item from the dictionary based on user input."
   ]
  },
  {
   "cell_type": "code",
   "execution_count": 11,
   "id": "40af6708-86f9-48c0-9e09-397c7f2fa8db",
   "metadata": {},
   "outputs": [
    {
     "name": "stdin",
     "output_type": "stream",
     "text": [
      "which items name do u want to remove:  Banana\n"
     ]
    },
    {
     "data": {
      "text/plain": [
       "{'Apple': 81, 'Mango': 80, 'Jackfruit': 90, 'lichi': 95}"
      ]
     },
     "execution_count": 11,
     "metadata": {},
     "output_type": "execute_result"
    }
   ],
   "source": [
    "fruits={\"Apple\": 81, \"Banana\": 50, \"Mango\": 80, \"Jackfruit\": 90, \"lichi\": 95}\n",
    "\n",
    "items_name=input(\"which items name do u want to remove: \")\n",
    "\n",
    "fruits.pop(items_name)\n",
    "fruits\n"
   ]
  },
  {
   "cell_type": "markdown",
   "id": "256a6251-188c-40b3-896b-eb93a2e76149",
   "metadata": {},
   "source": [
    "# 83. Dictionary Sorting: Given a dictionary with names as keys and corresponding ages as values, write a Python program to sort the dictionary based on age in ascending order."
   ]
  },
  {
   "cell_type": "code",
   "execution_count": 55,
   "id": "c98cf6fa-8332-4e20-b460-98d2e054d777",
   "metadata": {},
   "outputs": [
    {
     "data": {
      "text/plain": [
       "{'Nabil': 20, 'Iqbal': 28, 'Zahid': 29}"
      ]
     },
     "execution_count": 55,
     "metadata": {},
     "output_type": "execute_result"
    }
   ],
   "source": [
    "dictionary = {\n",
    "    \"Zahid\": 29,\n",
    "    \"Iqbal\": 28,\n",
    "    \"Nabil\": 20\n",
    "}\n",
    "\n",
    "sorted_dict = dict(sorted(dictionary.items(), key=lambda item: item[1]))\n",
    "sorted_dict"
   ]
  },
  {
   "cell_type": "markdown",
   "id": "f226e534-3d98-4d29-a652-59b054b833c2",
   "metadata": {},
   "source": [
    "# 84. Dictionary Frequency Count: Write a Python program that takes a string as input and creates a dictionary containing each character as a key and its frequency as the value."
   ]
  },
  {
   "cell_type": "code",
   "execution_count": 40,
   "id": "93ebd884-bd43-4c7d-858c-35bd1232e4dd",
   "metadata": {},
   "outputs": [
    {
     "name": "stdin",
     "output_type": "stream",
     "text": [
      "give strings:  ABCDABCDABCDBADFGHIABCD\n"
     ]
    },
    {
     "data": {
      "text/plain": [
       "{'A': 5, 'B': 5, 'C': 4, 'D': 5, 'F': 1, 'G': 1, 'H': 1, 'I': 1}"
      ]
     },
     "execution_count": 40,
     "metadata": {},
     "output_type": "execute_result"
    }
   ],
   "source": [
    "strings=input(\"give strings: \")\n",
    "keys=[]\n",
    "final={}\n",
    "for i in strings:\n",
    "    keys.append(i)\n",
    "keys\n",
    "\n",
    "for i in keys:\n",
    "    final.update({i:keys.count(i)})\n",
    "final"
   ]
  },
  {
   "cell_type": "markdown",
   "id": "90cd4fb2-f3e8-476a-a728-5ea5e2540dd6",
   "metadata": {},
   "source": [
    "# 85. Dictionary Comprehension: Given a list of integers, write a Python program to create a dictionary where the keys are the elements from the list, and the values are their squares."
   ]
  },
  {
   "cell_type": "code",
   "execution_count": 41,
   "id": "2a65868b-13b3-4c7e-94a4-ed725fca1257",
   "metadata": {},
   "outputs": [
    {
     "data": {
      "text/plain": [
       "{2: 4, 4: 16, 3: 9, 5: 25}"
      ]
     },
     "execution_count": 41,
     "metadata": {},
     "output_type": "execute_result"
    }
   ],
   "source": [
    "lst=[2,4,3,5]\n",
    "\n",
    "a={i:i**2 for i in lst}\n",
    "a"
   ]
  },
  {
   "cell_type": "markdown",
   "id": "58982820-43ca-435f-898b-d5576dd8674a",
   "metadata": {},
   "source": [
    "# 86. Dictionary Key Check: Write a Python program that takes a key as input and checks if it exists in a given dictionary. Print “Key Found” if the key is present and “Key Not Found” otherwise."
   ]
  },
  {
   "cell_type": "code",
   "execution_count": 55,
   "id": "884f0b4e-0940-454f-9ae8-a9ca1b833b57",
   "metadata": {},
   "outputs": [
    {
     "name": "stdin",
     "output_type": "stream",
     "text": [
      "enter key:  banana\n"
     ]
    },
    {
     "name": "stdout",
     "output_type": "stream",
     "text": [
      "Key not found\n"
     ]
    }
   ],
   "source": [
    "key_chk=input(\"enter key: \")\n",
    "fruits={\"Apple\": 81, \"Banana\": 50, \"Mango\": 80, \"Jackfruit\": 90, \"lichi\": 95}\n",
    "\n",
    "a=key_chk in fruits\n",
    "\n",
    "if a == True:\n",
    "    print(\"Key is present\")\n",
    "else:\n",
    "    print(\"Key not found\")\n"
   ]
  },
  {
   "cell_type": "markdown",
   "id": "3fdb62a1-add1-4b4a-b494-a5d8966fe2d3",
   "metadata": {},
   "source": [
    "# *<font color='red'>*Nested Dictionary Problems*</font>*"
   ]
  },
  {
   "cell_type": "markdown",
   "id": "e904163b-469f-4c02-84ed-b3bd6d026548",
   "metadata": {},
   "source": [
    "# 87. Access Nested Dictionary: Given a nested dictionary containing student details, write a Python program to access and print specific information such as a student’s name, age, and address."
   ]
  },
  {
   "cell_type": "code",
   "execution_count": 153,
   "id": "7a2db814-5c85-454b-8082-48b002b72f46",
   "metadata": {},
   "outputs": [
    {
     "name": "stdout",
     "output_type": "stream",
     "text": [
      "Sylhet\n"
     ]
    }
   ],
   "source": [
    "dictionary = {\n",
    "    \"Zahid\": {\"Age\": 29, \"City\": \"Dhaka\"},\n",
    "    \"Iqbal\": {\"Age\": 28, \"City\": \"Chittagong\"},\n",
    "    \"Nabil\": {\"Age\": 23, \"City\": \"Sylhet\"}\n",
    "}\n",
    "\n",
    "print(dictionary[\"Nabil\"][\"City\"])"
   ]
  },
  {
   "cell_type": "markdown",
   "id": "0c7e52ea-1569-4666-9e74-9d30950d269b",
   "metadata": {},
   "source": [
    "# 88. Nested Dictionary Length: Write a Python program to calculate and print the total number of key-value pairs in a nested dictionary."
   ]
  },
  {
   "cell_type": "code",
   "execution_count": 18,
   "id": "fbef0ad7-b368-494f-aa53-2210c7c0d5c3",
   "metadata": {},
   "outputs": [
    {
     "name": "stdout",
     "output_type": "stream",
     "text": [
      "total key-value pair is: 9\n"
     ]
    }
   ],
   "source": [
    "dictionary = {\n",
    "    \"Zahid\": {\"Age\": 29, \"City\": \"Dhaka\"},\n",
    "    \"Iqbal\": {\"Age\": 28, \"City\": \"Chittagong\"},\n",
    "    \"Nabil\": {\"Age\": 23, \"City\": \"Sylhet\"}\n",
    "}\n",
    "lst=[]\n",
    "\n",
    "for key,value in dictionary.items():\n",
    "    lst.append(key)\n",
    "    if isinstance(value,dict):\n",
    "        for sub_key, sub_value in value.items():\n",
    "            lst.append(sub_key)\n",
    "    else:\n",
    "        lst.append(key)\n",
    "\n",
    "print(f'total key-value pair is: {len(lst)}')"
   ]
  },
  {
   "cell_type": "markdown",
   "id": "3dce1faa-0f9d-4d80-80fd-ebe6212f5ffe",
   "metadata": {},
   "source": [
    "# 89. Nested Dictionary Update: Given a nested dictionary of employee details, write a Python program to update an employee’s salary based on their employee ID."
   ]
  },
  {
   "cell_type": "code",
   "execution_count": 24,
   "id": "13b10f05-8369-4592-9e43-e04884d85619",
   "metadata": {},
   "outputs": [
    {
     "name": "stdin",
     "output_type": "stream",
     "text": [
      "Please give employee id 40\n"
     ]
    },
    {
     "name": "stdout",
     "output_type": "stream",
     "text": [
      "62000\n"
     ]
    },
    {
     "data": {
      "text/plain": [
       "{10: {'name': 'Zahid', 'age': 28, 'department': 'HR', 'salary': 55000},\n",
       " 20: {'name': 'Iqbal', 'age': 34, 'department': 'Finance', 'salary': 67000},\n",
       " 30: {'name': 'Nabil', 'age': 25, 'department': 'IT', 'salary': 72000},\n",
       " 40: {'name': 'Zarif', 'age': 30, 'department': 'Marketing', 'salary': 62000}}"
      ]
     },
     "execution_count": 24,
     "metadata": {},
     "output_type": "execute_result"
    }
   ],
   "source": [
    "employees = {\n",
    "    10: {\n",
    "        \"name\": \"Zahid\",\n",
    "        \"age\": 28,\n",
    "        \"department\": \"HR\",\n",
    "        \"salary\": 55000\n",
    "    },\n",
    "    20: {\n",
    "        \"name\": \"Iqbal\",\n",
    "        \"age\": 34,\n",
    "        \"department\": \"Finance\",\n",
    "        \"salary\": 67000\n",
    "    },\n",
    "    30: {\n",
    "        \"name\": \"Nabil\",\n",
    "        \"age\": 25,\n",
    "        \"department\": \"IT\",\n",
    "        \"salary\": 72000\n",
    "    },\n",
    "    40: {\n",
    "        \"name\": \"Zarif\",\n",
    "        \"age\": 30,\n",
    "        \"department\": \"Marketing\",\n",
    "        \"salary\": 60000\n",
    "    }\n",
    "}\n",
    "\n",
    "a=int(input(\"Please give employee id\"))\n",
    "\n",
    "for key,value in employees.items():\n",
    "    if key == a:\n",
    "        employees[a][\"salary\"]=62000\n",
    "\n",
    "print(employees[a][\"salary\"])\n",
    "\n",
    "employees"
   ]
  },
  {
   "cell_type": "markdown",
   "id": "830f160c-85f6-4778-961d-8c1a790fc906",
   "metadata": {},
   "source": [
    "# 90. Nested Dictionary Sorting: Given a nested dictionary containing product details (product name, price, and quantity), write a Python program to sort the products based on their prices in ascending order."
   ]
  },
  {
   "cell_type": "code",
   "execution_count": 65,
   "id": "4d3b5b2a-6982-4ed8-9ae9-b3255547247e",
   "metadata": {},
   "outputs": [
    {
     "data": {
      "text/plain": [
       "{'D': {'name': 'Keyboard', 'price': 1200, 'quantity': 50},\n",
       " 'C': {'name': 'Headphones', 'price': 1500, 'quantity': 100},\n",
       " 'E': {'name': 'Monitor', 'price': 10000, 'quantity': 20},\n",
       " 'B': {'name': 'Smartphone', 'price': 40000, 'quantity': 25},\n",
       " 'A': {'name': 'Laptop', 'price': 75000, 'quantity': 10}}"
      ]
     },
     "execution_count": 65,
     "metadata": {},
     "output_type": "execute_result"
    }
   ],
   "source": [
    "products = {\n",
    "    \"A\": {\n",
    "        \"name\": \"Laptop\",\n",
    "        \"price\": 75000,\n",
    "        \"quantity\": 10\n",
    "    },\n",
    "    \"B\": {\n",
    "        \"name\": \"Smartphone\",\n",
    "        \"price\": 40000,\n",
    "        \"quantity\": 25\n",
    "    },\n",
    "    \"C\": {\n",
    "        \"name\": \"Headphones\",\n",
    "        \"price\": 1500,\n",
    "        \"quantity\": 100\n",
    "    },\n",
    "    \"D\": {\n",
    "        \"name\": \"Keyboard\",\n",
    "        \"price\": 1200,\n",
    "        \"quantity\": 50\n",
    "    },\n",
    "    \"E\": {\n",
    "        \"name\": \"Monitor\",\n",
    "        \"price\": 10000,\n",
    "        \"quantity\": 20\n",
    "    }\n",
    "}\n",
    "\n",
    "sorted_products = dict(sorted(products.items(), key=lambda item: item[1]['price']))\n",
    "sorted_products"
   ]
  },
  {
   "cell_type": "markdown",
   "id": "6bf875a8-b5d9-4d88-be95-5ee1a44a6824",
   "metadata": {},
   "source": [
    "# 91. Nested Dictionary Key Search: Write a Python program that takes a key as input and searches for it in a nested dictionary. If found, print the corresponding value, otherwise, print “Key Not Found.”"
   ]
  },
  {
   "cell_type": "code",
   "execution_count": 36,
   "id": "c0e6905e-594b-4304-9dbf-41600fa52d88",
   "metadata": {},
   "outputs": [
    {
     "name": "stdin",
     "output_type": "stream",
     "text": [
      "Please give key city\n"
     ]
    },
    {
     "name": "stdout",
     "output_type": "stream",
     "text": [
      "Not Found\n",
      "Not Found\n",
      "Not Found\n",
      "Not Found\n",
      "Not Found\n",
      "Not Found\n",
      "Not Found\n",
      "Not Found\n",
      "Not Found\n",
      "Not Found\n",
      "Not Found\n",
      "Not Found\n",
      "Not Found\n",
      "Not Found\n",
      "Not Found\n",
      "Not Found\n"
     ]
    }
   ],
   "source": [
    "employees = {\n",
    "    10: {\n",
    "        \"name\": \"Zahid\",\n",
    "        \"age\": 28,\n",
    "        \"department\": \"HR\",\n",
    "        \"salary\": 55000\n",
    "    },\n",
    "    20: {\n",
    "        \"name\": \"Iqbal\",\n",
    "        \"age\": 34,\n",
    "        \"department\": \"Finance\",\n",
    "        \"salary\": 67000\n",
    "    },\n",
    "    30: {\n",
    "        \"name\": \"Nabil\",\n",
    "        \"age\": 25,\n",
    "        \"department\": \"IT\",\n",
    "        \"salary\": 72000\n",
    "    },\n",
    "    40: {\n",
    "        \"name\": \"Zarif\",\n",
    "        \"age\": 30,\n",
    "        \"department\": \"Marketing\",\n",
    "        \"salary\": 60000\n",
    "    }\n",
    "}\n",
    "\n",
    "key_to_search=input(\"Please give key\")\n",
    "\n",
    "for key,value in employees.items():\n",
    "    if key == key_to_search:\n",
    "        print(\"Found\")\n",
    "    elif isinstance(value,dict):\n",
    "        for sub_key,sub_value in value.items():\n",
    "            if sub_key == key_to_search:\n",
    "                print(\"Found\")\n",
    "            else:\n",
    "                print(\"Not Found\")\n",
    "    else:\n",
    "        print(\"key not found\")\n",
    "        "
   ]
  },
  {
   "cell_type": "markdown",
   "id": "a82c12ec-d645-4a86-b5f8-6986a400027a",
   "metadata": {},
   "source": [
    "# *<font color='red'>*Break & Continue*</font>*"
   ]
  },
  {
   "cell_type": "markdown",
   "id": "8b3f2e3e-cb78-4725-b9ca-df8e60a38024",
   "metadata": {},
   "source": [
    "# 92. Prime Number Checker: Write a Python program that takes a number as input and determines if it is a prime number or not. Use a `for` loop to check for factors. If a factor is found, `break` out of the loop."
   ]
  },
  {
   "cell_type": "code",
   "execution_count": 108,
   "id": "34e7f725-f693-473c-b39b-5956ab1331e4",
   "metadata": {},
   "outputs": [
    {
     "name": "stdin",
     "output_type": "stream",
     "text": [
      "Please give me a nuumber:  5\n"
     ]
    },
    {
     "name": "stdout",
     "output_type": "stream",
     "text": [
      "Number is Prime\n"
     ]
    }
   ],
   "source": [
    "a=int(input(\"Please give me a nuumber: \"))\n",
    "fact=[]\n",
    "for i in range(2,a):\n",
    "    if a % i == 0:\n",
    "        fact.append(i)\n",
    "        break\n",
    "if len(fact) == 0:\n",
    "    print(\"Number is Prime\")\n",
    "else:\n",
    "    print(\"Number is not Prime\")"
   ]
  },
  {
   "cell_type": "markdown",
   "id": "1aa395f3-9d3f-4966-90e4-2fa2c3e2fb61",
   "metadata": {},
   "source": [
    "# 93. Even Number Printer: Write a Python program to print all even numbers from 1 to 20. Use a `for` loop and `continue` to skip odd numbers."
   ]
  },
  {
   "cell_type": "code",
   "execution_count": 114,
   "id": "1e410c0d-8e51-4b86-8d9b-b50fd7ec10a0",
   "metadata": {},
   "outputs": [
    {
     "name": "stdout",
     "output_type": "stream",
     "text": [
      "2 4 6 8 10 12 14 16 18 20 "
     ]
    }
   ],
   "source": [
    "for i in range(1,21):\n",
    "    if i % 2 == 0:\n",
    "        print(i,end=\" \")\n",
    "    else:\n",
    "        continue\n"
   ]
  },
  {
   "cell_type": "markdown",
   "id": "1e0eb319-a6f6-48d6-999d-461dddf8198a",
   "metadata": {},
   "source": [
    "# 94. Password Validator: Write a Python program that takes a password as input and checks if it meets the following criteria: at least 8 characters long, contains both uppercase and lowercase letters, and has at least one digit. If the password is valid, print “Password accepted.” If not, use `continue` to prompt the user to enter a valid password."
   ]
  },
  {
   "cell_type": "code",
   "execution_count": null,
   "id": "8f4a50d6-c439-46ba-b49e-4f95b143a4c3",
   "metadata": {},
   "outputs": [],
   "source": []
  },
  {
   "cell_type": "markdown",
   "id": "d017fc16-9035-44fb-af31-2276eb70f641",
   "metadata": {},
   "source": [
    "# 95. Divisible by 3 or 5: Write a Python program to print all numbers from 1 to 50 that are divisible by either 3 or 5. Use a `for` loop and `continue` to skip numbers that are not divisible by either 3 or 5."
   ]
  },
  {
   "cell_type": "code",
   "execution_count": 130,
   "id": "9be692e8-3816-4da9-b6da-33a1ce5c9be4",
   "metadata": {},
   "outputs": [
    {
     "name": "stdout",
     "output_type": "stream",
     "text": [
      "3 5 6 9 10 12 15 18 20 21 24 25 27 30 33 35 36 39 40 42 45 48 50 "
     ]
    }
   ],
   "source": [
    "for i in range(1,51):\n",
    "    if i % 3 == 0 or i % 5 == 0:\n",
    "        print(i,end=\" \")\n",
    "    else:\n",
    "        continue"
   ]
  },
  {
   "cell_type": "markdown",
   "id": "16524f2d-c7f3-4961-a358-0bd84f5fba39",
   "metadata": {},
   "source": [
    "# 96. Positive Number Sum: Write a Python program that takes positive numbers as input until a negative number is entered. Then, calculate and print the sum of all positive numbers entered. Use a `while` loop and `break` to exit the loop when a negative number is encountered."
   ]
  },
  {
   "cell_type": "code",
   "execution_count": 137,
   "id": "ed9d301b-cd1a-48fd-8f36-ebdc40a72fd4",
   "metadata": {},
   "outputs": [
    {
     "name": "stdin",
     "output_type": "stream",
     "text": [
      "Please provide postive numbers:  3\n"
     ]
    },
    {
     "name": "stdout",
     "output_type": "stream",
     "text": [
      "3\n"
     ]
    },
    {
     "name": "stdin",
     "output_type": "stream",
     "text": [
      "Please provide postive numbers:  2\n"
     ]
    },
    {
     "name": "stdout",
     "output_type": "stream",
     "text": [
      "5\n"
     ]
    },
    {
     "name": "stdin",
     "output_type": "stream",
     "text": [
      "Please provide postive numbers:  3\n"
     ]
    },
    {
     "name": "stdout",
     "output_type": "stream",
     "text": [
      "8\n"
     ]
    },
    {
     "name": "stdin",
     "output_type": "stream",
     "text": [
      "Please provide postive numbers:  -1\n"
     ]
    },
    {
     "name": "stdout",
     "output_type": "stream",
     "text": [
      "You have entered negative number and sum is: 8\n"
     ]
    }
   ],
   "source": [
    "sum=0\n",
    "i=1\n",
    "while i>0:\n",
    "    i= int(input(\"Please provide postive numbers: \"))\n",
    "    if i < 0:\n",
    "        break\n",
    "    sum=sum+i\n",
    "    print(sum)\n",
    "\n",
    "print(f'You have entered negative number and sum is: {sum}')"
   ]
  },
  {
   "cell_type": "markdown",
   "id": "40b7bf9d-165d-4627-85e7-e847a54b79d9",
   "metadata": {},
   "source": [
    "# 97. Word Palindrome Checker: Write a Python program that takes a word as input and checks if it is a palindrome (reads the same forwards and backward). Use `continue` to skip checking the word if its length is less than 3 characters."
   ]
  },
  {
   "cell_type": "code",
   "execution_count": 124,
   "id": "97209be9-a866-4d5c-943c-2a56d395e9e4",
   "metadata": {},
   "outputs": [
    {
     "name": "stdin",
     "output_type": "stream",
     "text": [
      "Please Give Numbe:  ads\n"
     ]
    },
    {
     "name": "stdout",
     "output_type": "stream",
     "text": [
      "Not Palindrome\n"
     ]
    }
   ],
   "source": [
    "input_string=input(\"Please Give Numbe: \")\n",
    "\n",
    "length=len(input_string)\n",
    "\n",
    "if input_string[0:length] == input_string[::-1]:\n",
    "    print(\"Palindrome\")\n",
    "else:\n",
    "    print(\"Not Palindrome\")"
   ]
  },
  {
   "cell_type": "markdown",
   "id": "7988bead-8839-44ba-975c-aa6a42124933",
   "metadata": {},
   "source": [
    "# 98. Odd Number Finder: Write a Python program to find the first odd number from a list of integers. Use a `for` loop and `break` to stop the loop when the first odd number is found."
   ]
  },
  {
   "cell_type": "code",
   "execution_count": 139,
   "id": "f584e210-43c6-4446-94f8-d688df860835",
   "metadata": {},
   "outputs": [
    {
     "data": {
      "text/plain": [
       "3"
      ]
     },
     "execution_count": 139,
     "metadata": {},
     "output_type": "execute_result"
    }
   ],
   "source": [
    "odd=[2,4,6,8,3,10,12,14,17,19,21,22]\n",
    "for items in odd:\n",
    "    if items % 2 != 0:\n",
    "        break\n",
    "items"
   ]
  },
  {
   "cell_type": "markdown",
   "id": "575de899-4042-4af4-adee-7e4dd3268f49",
   "metadata": {},
   "source": [
    "# 99. Number Guessing Game: Write a Python program that generates a random number between 1 and 100 and lets the user guess the number. Use a `while` loop, `break` when the correct number is guessed, and `continue` to keep prompting the user until they guess correctly."
   ]
  },
  {
   "cell_type": "code",
   "execution_count": 5,
   "id": "c26b8dcf-4451-4fc9-a638-eb208820c67a",
   "metadata": {},
   "outputs": [
    {
     "name": "stdin",
     "output_type": "stream",
     "text": [
      "Please take ur guess:  99\n"
     ]
    },
    {
     "name": "stdout",
     "output_type": "stream",
     "text": [
      "reduce\n"
     ]
    },
    {
     "name": "stdin",
     "output_type": "stream",
     "text": [
      "Please take ur guess again:  80\n"
     ]
    },
    {
     "name": "stdout",
     "output_type": "stream",
     "text": [
      "reduce\n"
     ]
    },
    {
     "name": "stdin",
     "output_type": "stream",
     "text": [
      "Please take ur guess again:  70\n"
     ]
    },
    {
     "name": "stdout",
     "output_type": "stream",
     "text": [
      "reduce\n"
     ]
    },
    {
     "name": "stdin",
     "output_type": "stream",
     "text": [
      "Please take ur guess again:  50\n"
     ]
    },
    {
     "name": "stdout",
     "output_type": "stream",
     "text": [
      "reduce\n"
     ]
    },
    {
     "name": "stdin",
     "output_type": "stream",
     "text": [
      "Please take ur guess again:  40\n"
     ]
    },
    {
     "name": "stdout",
     "output_type": "stream",
     "text": [
      "reduce\n"
     ]
    },
    {
     "name": "stdin",
     "output_type": "stream",
     "text": [
      "Please take ur guess again:  30\n"
     ]
    },
    {
     "name": "stdout",
     "output_type": "stream",
     "text": [
      "reduce\n"
     ]
    },
    {
     "name": "stdin",
     "output_type": "stream",
     "text": [
      "Please take ur guess again:  20\n"
     ]
    },
    {
     "name": "stdout",
     "output_type": "stream",
     "text": [
      "reduce\n"
     ]
    },
    {
     "name": "stdin",
     "output_type": "stream",
     "text": [
      "Please take ur guess again:  10\n"
     ]
    },
    {
     "name": "stdout",
     "output_type": "stream",
     "text": [
      "increase\n"
     ]
    },
    {
     "name": "stdin",
     "output_type": "stream",
     "text": [
      "Please take ur guess again:  11\n"
     ]
    },
    {
     "name": "stdout",
     "output_type": "stream",
     "text": [
      "increase\n"
     ]
    },
    {
     "name": "stdin",
     "output_type": "stream",
     "text": [
      "Please take ur guess again:  15\n"
     ]
    },
    {
     "name": "stdout",
     "output_type": "stream",
     "text": [
      "increase\n"
     ]
    },
    {
     "name": "stdin",
     "output_type": "stream",
     "text": [
      "Please take ur guess again:  17\n"
     ]
    },
    {
     "name": "stdout",
     "output_type": "stream",
     "text": [
      "You guessed right\n"
     ]
    }
   ],
   "source": [
    "import random\n",
    "random_number = random.randint(1, 100)\n",
    "guess=int(input(\"Please take ur guess: \"))\n",
    "\n",
    "while guess != random_number:\n",
    "    if guess > random_number:\n",
    "        print(\"reduce\")\n",
    "    elif guess < random_number:\n",
    "        print(\"increase\")\n",
    "    guess=int(input(\"Please take ur guess again: \"))\n",
    "    if guess == random_number:\n",
    "              break\n",
    "print(\"You guessed right\")"
   ]
  },
  {
   "cell_type": "markdown",
   "id": "d693858b-0f3b-4a23-aa99-62ae5e94d575",
   "metadata": {},
   "source": [
    "# 100. Vowel Counter: Write a Python program that takes a string as input and counts the number of vowels (a, e, i, o, u) in it. Use a `for` loop and `continue` to skip counting non-vowel characters."
   ]
  },
  {
   "cell_type": "code",
   "execution_count": 39,
   "id": "69fc0645-9e76-4f65-b135-b8482143d7cb",
   "metadata": {},
   "outputs": [
    {
     "name": "stdin",
     "output_type": "stream",
     "text": [
      "Type your alphabet:  bangaioaa\n"
     ]
    },
    {
     "data": {
      "text/plain": [
       "6"
      ]
     },
     "execution_count": 39,
     "metadata": {},
     "output_type": "execute_result"
    }
   ],
   "source": [
    "alphabet= input('Type your alphabet: ')\n",
    "count=0\n",
    "for i in alphabet:\n",
    "    if i.capitalize() == 'A' or i.capitalize() == 'E' or i.capitalize() == 'I' or i.capitalize() == 'O' or i.capitalize() == 'U': \n",
    "        count=count+1\n",
    "    else:\n",
    "        continue\n",
    "count"
   ]
  },
  {
   "cell_type": "markdown",
   "id": "338edcb0-7ab5-4250-909d-1e6e676b5600",
   "metadata": {},
   "source": [
    "# 101. Unique Characters: Write a Python program that takes a string as input and checks if it contains all unique characters (no character repeats). Use a `for` loop and `break` when a character repeats."
   ]
  },
  {
   "cell_type": "code",
   "execution_count": 26,
   "id": "26be9376-027b-401d-b44a-31b9f85597cf",
   "metadata": {},
   "outputs": [
    {
     "name": "stdin",
     "output_type": "stream",
     "text": [
      "Type your strings:  helo my na\n"
     ]
    },
    {
     "data": {
      "text/plain": [
       "['h', 'e', 'l', 'o']"
      ]
     },
     "execution_count": 26,
     "metadata": {},
     "output_type": "execute_result"
    }
   ],
   "source": [
    "strings= input('Type your strings: ')\n",
    "lst=[]\n",
    "lst1=[]\n",
    "for i in strings:\n",
    "    lst.append(i)\n",
    "\n",
    "for j in lst:\n",
    "    if lst.count(j) > 1 and lst.count(j) > 1:\n",
    "        break\n",
    "    else:\n",
    "        lst1.append(j)\n",
    "        \n",
    "lst1\n"
   ]
  },
  {
   "cell_type": "markdown",
   "id": "311865e1-374d-4c0d-a5b5-1b9fc744ea1b",
   "metadata": {},
   "source": [
    "# *<font color='red'>*Functions Problems*</font>*"
   ]
  },
  {
   "cell_type": "markdown",
   "id": "5003eeac-d2d7-4cbd-a6ec-0ee7234b7b39",
   "metadata": {},
   "source": [
    "# 102. Factorial Calculator: Write a Python function called `factorial` that takes an integer as input and returns its factorial. Test the function with different values."
   ]
  },
  {
   "cell_type": "code",
   "execution_count": 2,
   "id": "50255b24-06b2-4a94-b1d8-9c5e49462a3e",
   "metadata": {},
   "outputs": [
    {
     "name": "stdin",
     "output_type": "stream",
     "text": [
      "Desired_number:  4\n"
     ]
    },
    {
     "name": "stdout",
     "output_type": "stream",
     "text": [
      "24\n"
     ]
    }
   ],
   "source": [
    "def fact(num):\n",
    "\tsum=1\n",
    "\tfor i in range(1,num+1):\n",
    "\t\tsum=sum*i\n",
    "\treturn sum\n",
    "\n",
    "x=int(input(\"Desired_number: \"))\n",
    "a=fact(x)\n",
    "print(a)"
   ]
  },
  {
   "cell_type": "markdown",
   "id": "1c6ae475-928c-40b3-95bd-d0bee2997d37",
   "metadata": {},
   "source": [
    "# 103. Palindrome Checker: Write a Python function called `is_palindrome` that takes a string as input and returns `True` if it is a palindrome and `False` otherwise. Test the function with different words."
   ]
  },
  {
   "cell_type": "code",
   "execution_count": 6,
   "id": "a0d2f865-c593-4c38-91bf-5622ffcde59c",
   "metadata": {},
   "outputs": [
    {
     "name": "stdin",
     "output_type": "stream",
     "text": [
      "Desired_number:  1121\n"
     ]
    },
    {
     "name": "stdout",
     "output_type": "stream",
     "text": [
      "False\n"
     ]
    }
   ],
   "source": [
    "def palindrome(inp_ut):\n",
    "\tlength=len(inp_ut)\n",
    "\tif inp_ut[0:length] == inp_ut[::-1]:\n",
    "\t\treturn True\n",
    "\telse:\n",
    "\t\treturn False\n",
    "\n",
    "x=input(\"Desired_number: \")\n",
    "a=palindrome(x)\n",
    "print(a)"
   ]
  },
  {
   "cell_type": "markdown",
   "id": "64b15f04-420b-45dc-a707-f0b84c9a4c13",
   "metadata": {},
   "source": [
    "# 104. Even or Odd Checker: Write a Python function called `even_or_odd` that takes an integer as input and returns “Even” if the number is even and “Odd” if the number is odd. Test the function with different numbers."
   ]
  },
  {
   "cell_type": "code",
   "execution_count": 10,
   "id": "088f464d-ba38-485c-9f51-874762de965d",
   "metadata": {},
   "outputs": [
    {
     "name": "stdin",
     "output_type": "stream",
     "text": [
      "Desired_number:  13\n"
     ]
    },
    {
     "name": "stdout",
     "output_type": "stream",
     "text": [
      "Odd\n"
     ]
    }
   ],
   "source": [
    "def is_even(num):\n",
    "\tif num % 2 == 0:\n",
    "\t\treturn \"Even\"\n",
    "\telse:\n",
    "\t\treturn \"Odd\"\n",
    "\t\n",
    "x=int(input(\"Desired_number: \"))\n",
    "a=is_even(x)\n",
    "print(a)"
   ]
  },
  {
   "cell_type": "markdown",
   "id": "9d9b8b0b-2e56-4c3c-bfe2-a719e38402eb",
   "metadata": {},
   "source": [
    "# 105. List Sum Calculator: Write a Python function called `list_sum` that takes a list of integers as input and returns the sum of all elements in the list. Test the function with different lists."
   ]
  },
  {
   "cell_type": "code",
   "execution_count": 12,
   "id": "2b051dc8-a21d-4a74-b482-d59895b42b80",
   "metadata": {},
   "outputs": [
    {
     "name": "stdin",
     "output_type": "stream",
     "text": [
      "How many numbers do u want in list:  3\n",
      "numbers:  11\n",
      "numbers:  12\n",
      "numbers:  13\n"
     ]
    },
    {
     "name": "stdout",
     "output_type": "stream",
     "text": [
      "36\n"
     ]
    }
   ],
   "source": [
    "def is_sum(lst):\n",
    "\tsum=0\n",
    "\tfor i in lst:\n",
    "\t\tsum=sum+i\n",
    "\treturn sum\n",
    "\n",
    "lst10=[]\n",
    "a=int(input(\"How many numbers do u want in list: \"))\n",
    "\n",
    "for j in range(0,a):\n",
    "\tlst10.append(int(input(\"numbers: \")))\n",
    "\n",
    "b=is_sum(lst10)\n",
    "print(b)"
   ]
  },
  {
   "cell_type": "markdown",
   "id": "818d8cc9-3c08-4dbd-bc13-12e1349a3044",
   "metadata": {},
   "source": [
    "# 106. Greatest Common Divisor (GCD) Calculator: Write a Python function called `gcd` that takes two integers as input and returns their greatest common divisor. Test the function with different pairs of numbers."
   ]
  },
  {
   "cell_type": "code",
   "execution_count": 20,
   "id": "3d2b41b3-cd41-4c15-82c5-e5d9d705d003",
   "metadata": {},
   "outputs": [
    {
     "name": "stdin",
     "output_type": "stream",
     "text": [
      "Chking Leap year or not:  2004\n"
     ]
    },
    {
     "name": "stdout",
     "output_type": "stream",
     "text": [
      " It's a Leap Year\n"
     ]
    }
   ],
   "source": [
    "def gcd(n1=1, n2=1):\n",
    "\tlst1=[]\n",
    "\tlst2=[]\n",
    "\tfor i in range(2,n1):\n",
    "\t\tif n1 % i == 0:\n",
    "\t\t\tlst1.append(i)\n",
    "\tfor i in range(2,n2):\n",
    "\t\t\tif n2 % i == 0:\n",
    "\t\t\t\tlst2.append(i)\n",
    "\ta=set(lst1)\n",
    "\tb=set(lst2)\n",
    "\tc= a & b\n",
    "\td= list(c)\n",
    "\te= d.max()\n",
    "\treturn e\n",
    "\t\n",
    "num1=int(input(\"Please givr number 1: \"))\n",
    "num2=int(input(\"Please givr number 2: \"))\n",
    "\n",
    "f=gcd(num1,num2)\n",
    "\n",
    "print(f)"
   ]
  },
  {
   "cell_type": "markdown",
   "id": "beca241a-b4f9-4777-a224-4b7dd4c4cc5e",
   "metadata": {},
   "source": [
    "# 107. Leap Year Checker: Write a Python function called `is_leap_year` that takes a year as input and returns `True` if it is a leap year and `False` otherwise. Test the function with different years."
   ]
  },
  {
   "cell_type": "code",
   "execution_count": 22,
   "id": "7ab60452-6947-4f09-bf72-d5e83b202f35",
   "metadata": {},
   "outputs": [
    {
     "name": "stdin",
     "output_type": "stream",
     "text": [
      "Chking Leap year or not:  2000\n"
     ]
    },
    {
     "name": "stdout",
     "output_type": "stream",
     "text": [
      "Its a Leap Year\n"
     ]
    }
   ],
   "source": [
    "def leap_chk(year):\n",
    "\tif year % 100 == 0:\n",
    "\t\tif year % 400 == 0 and year % 4 == 0:\n",
    "\t\t\treturn \"Its a Leap Year\"\n",
    "\t\telse:\n",
    "\t\t\treturn \"Not a Leap Year\"\n",
    "\telif year % 4 == 0:\n",
    "\t\treturn \" It's a Leap Year\"\n",
    "\telse:\n",
    "\t\treturn \"Not a Leap Year\"\n",
    "\n",
    "a=int(input(\"Chking Leap year or not: \"))\n",
    "\n",
    "b=leap_chk(a)\n",
    "print(b)"
   ]
  },
  {
   "cell_type": "code",
   "execution_count": null,
   "id": "3479a070-fd6c-4e8c-8209-ff643ff7b4f6",
   "metadata": {},
   "outputs": [],
   "source": []
  }
 ],
 "metadata": {
  "kernelspec": {
   "display_name": "Python 3 (ipykernel)",
   "language": "python",
   "name": "python3"
  },
  "language_info": {
   "codemirror_mode": {
    "name": "ipython",
    "version": 3
   },
   "file_extension": ".py",
   "mimetype": "text/x-python",
   "name": "python",
   "nbconvert_exporter": "python",
   "pygments_lexer": "ipython3",
   "version": "3.12.7"
  }
 },
 "nbformat": 4,
 "nbformat_minor": 5
}
