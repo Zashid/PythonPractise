{
 "cells": [
  {
   "cell_type": "markdown",
   "id": "f60af565-b483-4845-b6e7-f3a4a100cd1d",
   "metadata": {},
   "source": [
    "# String Concatenation"
   ]
  },
  {
   "cell_type": "code",
   "execution_count": 4,
   "id": "1eb9d1da-89df-4f49-a206-23b05057b2f2",
   "metadata": {},
   "outputs": [
    {
     "name": "stdout",
     "output_type": "stream",
     "text": [
      "zashidiqbal\n",
      "zashid iqbal\n"
     ]
    }
   ],
   "source": [
    "name= \"zashid\"\n",
    "b= \"iqbal\"\n",
    "output=name+b\n",
    "print(output)\n",
    "output2=name+\" \"+b\n",
    "print(output2)"
   ]
  },
  {
   "cell_type": "code",
   "execution_count": 8,
   "id": "cab259c9-5878-4e0e-b03f-263b1cc94a58",
   "metadata": {},
   "outputs": [
    {
     "name": "stdout",
     "output_type": "stream",
     "text": [
      "zashidzashidzashid\n",
      "zashid zashid zashid \n"
     ]
    }
   ],
   "source": [
    "##String Repetition\n",
    "name= \"zashid\"\n",
    "output=name*3\n",
    "print(output)\n",
    "\n",
    "name2= \"zashid \"\n",
    "output2=name2*3\n",
    "print(output2)"
   ]
  },
  {
   "cell_type": "markdown",
   "id": "67170287-67f6-436e-b0be-ebce1a2db71b",
   "metadata": {},
   "source": [
    "# String Length"
   ]
  },
  {
   "cell_type": "code",
   "execution_count": 9,
   "id": "5c0d15ba-51a5-47b2-abbd-bc1857179d72",
   "metadata": {},
   "outputs": [
    {
     "name": "stdout",
     "output_type": "stream",
     "text": [
      "5\n"
     ]
    }
   ],
   "source": [
    "greeting = \"hello\"\n",
    "length = len(greeting)\n",
    "print(length)  # Output: 5"
   ]
  },
  {
   "cell_type": "markdown",
   "id": "b7121f13-d2db-468d-9227-e38bbaef928d",
   "metadata": {},
   "source": [
    "# Changing Case: Lower and Upper"
   ]
  },
  {
   "cell_type": "code",
   "execution_count": 11,
   "id": "d7735879-ef97-4a5e-938e-ad79687176c5",
   "metadata": {},
   "outputs": [
    {
     "name": "stdout",
     "output_type": "stream",
     "text": [
      "CODECHEF\n",
      "codechef\n"
     ]
    }
   ],
   "source": [
    "name = 'CodeChef'\n",
    "print(name.upper())\n",
    "\n",
    "print(name.lower())"
   ]
  },
  {
   "cell_type": "markdown",
   "id": "4c9bd037-cee2-4ca4-b1e2-ff7c32589275",
   "metadata": {},
   "source": [
    "# Accessing Characters in a String"
   ]
  },
  {
   "cell_type": "code",
   "execution_count": 17,
   "id": "7c0376cb-365a-42d0-93b2-5cb081211222",
   "metadata": {},
   "outputs": [
    {
     "name": "stdout",
     "output_type": "stream",
     "text": [
      "d\n",
      "fehCedoC\n"
     ]
    },
    {
     "data": {
      "text/plain": [
       "'Chax'"
      ]
     },
     "execution_count": 17,
     "metadata": {},
     "output_type": "execute_result"
    }
   ],
   "source": [
    "name = 'CodeChef'\n",
    "print(name[2])\n",
    "\n",
    "print(name[-1::-1]) ###reverse string\n",
    "\n",
    "myString = \"Chaf\"\n",
    "myString.replace(\"ha\",\"x\") ###replacing alphabet/word/ in a string\n",
    "myString.replace(\"f\",\"x\")"
   ]
  },
  {
   "cell_type": "markdown",
   "id": "fea3acf4-f2a2-4993-b2f3-79a355573225",
   "metadata": {},
   "source": [
    "# String Slicing"
   ]
  },
  {
   "cell_type": "code",
   "execution_count": 52,
   "id": "bb97d672-cfdc-4c01-a691-f5b34dd396c8",
   "metadata": {},
   "outputs": [
    {
     "name": "stdout",
     "output_type": "stream",
     "text": [
      "Inte\n"
     ]
    }
   ],
   "source": [
    "strings = 'Interesting'\n",
    "substring = strings[0:4]\n",
    "print(substring)"
   ]
  },
  {
   "cell_type": "markdown",
   "id": "20980f71-4046-49be-b23a-b9e0a847021b",
   "metadata": {},
   "source": [
    "# isalpha(), isalnum(), isnumeric, capitalize, title "
   ]
  },
  {
   "cell_type": "code",
   "execution_count": 51,
   "id": "68a00f92-0db1-4cb9-b8ed-ae54e3c76d50",
   "metadata": {},
   "outputs": [
    {
     "data": {
      "text/plain": [
       "True"
      ]
     },
     "execution_count": 51,
     "metadata": {},
     "output_type": "execute_result"
    }
   ],
   "source": [
    "strings = \"abcde123\"\n",
    "strings.capitalize() ##Capitalizae first word\n",
    "\n",
    "strings1 = \"name ki\"\n",
    "strings1.title() #Capitalizae first alphabet of each word\n",
    "\n",
    "strings.isalpha() ##Chk whether all is alphabet in strings\n",
    "\n",
    "strings3=\"amarnameborshon2\"\n",
    "#strings3.isalpha()\n",
    "strings3.isalnum()\n",
    "\n",
    "strings4=\"amar name borshon 2\"\n",
    "strings4.isnumeric()\n",
    "\n",
    "strings5=\"23124321423\"\n",
    "strings5.isnumeric()"
   ]
  },
  {
   "cell_type": "markdown",
   "id": "6c9243be-21dd-4bd3-a188-7b61f4900ea1",
   "metadata": {},
   "source": [
    "# Python String split() and join() Methods"
   ]
  },
  {
   "cell_type": "code",
   "execution_count": 53,
   "id": "e74f6fe7-de2e-43da-a131-b7a9476127d0",
   "metadata": {},
   "outputs": [
    {
     "data": {
      "text/plain": [
       "['I', 'code', 'for', '2', 'hours', 'everyday']"
      ]
     },
     "execution_count": 53,
     "metadata": {},
     "output_type": "execute_result"
    }
   ],
   "source": [
    "my_string = \"I code for 2 hours everyday\"\n",
    "my_string.split()"
   ]
  },
  {
   "cell_type": "code",
   "execution_count": 56,
   "id": "c4d50a16-cbb0-41d0-84eb-d40ec7582ac6",
   "metadata": {},
   "outputs": [
    {
     "data": {
      "text/plain": [
       "['Apples,Oranges,Pears,Bananas,Berries']"
      ]
     },
     "execution_count": 56,
     "metadata": {},
     "output_type": "execute_result"
    }
   ],
   "source": [
    "my_string1 = \"Apples,Oranges,Pears,Bananas,Berries\"\n",
    "my_string1.split()"
   ]
  },
  {
   "cell_type": "code",
   "execution_count": 58,
   "id": "36d2fd2b-ff85-422f-a95a-d2377b89717f",
   "metadata": {},
   "outputs": [
    {
     "data": {
      "text/plain": [
       "'p'"
      ]
     },
     "execution_count": 58,
     "metadata": {},
     "output_type": "execute_result"
    }
   ],
   "source": [
    "my_string1[2]"
   ]
  },
  {
   "cell_type": "code",
   "execution_count": 77,
   "id": "b7898bd0-9bf6-462b-9da2-6e8eec662e12",
   "metadata": {},
   "outputs": [
    {
     "data": {
      "text/plain": [
       "['Apples', 'Oranges', 'Pears', 'Bananas', 'Berries']"
      ]
     },
     "execution_count": 77,
     "metadata": {},
     "output_type": "execute_result"
    }
   ],
   "source": [
    "my_string2 = \"Apples,Oranges,Pears,Bananas,Berries\"\n",
    "my_string2.split(\",\")"
   ]
  },
  {
   "cell_type": "code",
   "execution_count": 63,
   "id": "6d401c0d-fe7e-4d42-888f-676abe50ffb8",
   "metadata": {},
   "outputs": [
    {
     "data": {
      "text/plain": [
       "36"
      ]
     },
     "execution_count": 63,
     "metadata": {},
     "output_type": "execute_result"
    }
   ],
   "source": [
    "len(my_string2)"
   ]
  },
  {
   "cell_type": "code",
   "execution_count": 68,
   "id": "6833af3c-d272-4665-afb4-bc7fafee1806",
   "metadata": {},
   "outputs": [
    {
     "data": {
      "text/plain": [
       "','"
      ]
     },
     "execution_count": 68,
     "metadata": {},
     "output_type": "execute_result"
    }
   ],
   "source": [
    "my_string2[6]"
   ]
  },
  {
   "cell_type": "code",
   "execution_count": 70,
   "id": "9450f254-0394-4378-8aff-d2775f015ce7",
   "metadata": {},
   "outputs": [
    {
     "data": {
      "text/plain": [
       "['Apples', 'Oranges', 'Pears', 'Bananas,Berries']"
      ]
     },
     "execution_count": 70,
     "metadata": {},
     "output_type": "execute_result"
    }
   ],
   "source": [
    "my_string3 = \"Apples,Oranges,Pears,Bananas,Berries\"\n",
    "my_string3.split(\",\",maxsplit=3)"
   ]
  },
  {
   "cell_type": "code",
   "execution_count": 79,
   "id": "c91ae54f-af7c-47ec-b4eb-6d9a39a39e23",
   "metadata": {},
   "outputs": [
    {
     "data": {
      "text/plain": [
       "'Icodefor2hourseveryday'"
      ]
     },
     "execution_count": 79,
     "metadata": {},
     "output_type": "execute_result"
    }
   ],
   "source": [
    "list1=['I', 'code', 'for', '2', 'hours', 'everyday']\n",
    "x=\" \".join(list1)\n",
    "x"
   ]
  },
  {
   "cell_type": "code",
   "execution_count": 75,
   "id": "131a033d-8e28-4f90-a9b1-f78edc6615fc",
   "metadata": {},
   "outputs": [
    {
     "data": {
      "text/plain": [
       "'code'"
      ]
     },
     "execution_count": 75,
     "metadata": {},
     "output_type": "execute_result"
    }
   ],
   "source": [
    "list1[1]"
   ]
  },
  {
   "cell_type": "code",
   "execution_count": null,
   "id": "d63bfa3f-f958-4968-bf7f-be23325620b0",
   "metadata": {},
   "outputs": [],
   "source": []
  }
 ],
 "metadata": {
  "kernelspec": {
   "display_name": "Python 3 (ipykernel)",
   "language": "python",
   "name": "python3"
  },
  "language_info": {
   "codemirror_mode": {
    "name": "ipython",
    "version": 3
   },
   "file_extension": ".py",
   "mimetype": "text/x-python",
   "name": "python",
   "nbconvert_exporter": "python",
   "pygments_lexer": "ipython3",
   "version": "3.12.7"
  }
 },
 "nbformat": 4,
 "nbformat_minor": 5
}
